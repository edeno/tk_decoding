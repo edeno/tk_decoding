{
 "cells": [
  {
   "cell_type": "code",
   "execution_count": null,
   "metadata": {
    "tags": []
   },
   "outputs": [],
   "source": [
    "import logging\n",
    "\n",
    "logging.basicConfig(\n",
    "    level=\"INFO\", format=\"%(asctime)s %(message)s\", datefmt=\"%d-%b-%y %H:%M:%S\"\n",
    ")\n"
   ]
  },
  {
   "cell_type": "code",
   "execution_count": null,
   "metadata": {
    "tags": []
   },
   "outputs": [],
   "source": [
    "from src.load_data import load_data\n",
    "from src.parameters import SAMPLING_FREQUENCY\n",
    "\n",
    "(position_info, spikes, multiunit_firing_rate, multiunit_HSE_times) = load_data(\n",
    "    position_file_name=\"../Raw-Data/position4Xulu_1.csv\",\n",
    "    spike_file_name=\"../Raw-Data/df4Xulu_1.csv\")\n",
    "\n",
    "# cut out first 20 s because animal is being placed on track\n",
    "start_ind = int(20.0 * SAMPLING_FREQUENCY)\n",
    "position_info = position_info.iloc[start_ind:]\n",
    "spikes = spikes.iloc[start_ind:]\n",
    "multiunit_firing_rate = multiunit_firing_rate.iloc[start_ind:]\n"
   ]
  },
  {
   "cell_type": "code",
   "execution_count": null,
   "metadata": {
    "tags": []
   },
   "outputs": [],
   "source": [
    "from replay_trajectory_classification import (\n",
    "    SortedSpikesClassifier,\n",
    "    Environment,\n",
    "    RandomWalk,\n",
    "    Uniform,\n",
    ")\n",
    "\n",
    "\n",
    "environment = Environment(place_bin_size=2.0)\n",
    "continuous_transition_types = [\n",
    "    [RandomWalk(movement_var=12.0), Uniform()],\n",
    "    [Uniform(), Uniform()],\n",
    "]\n",
    "\n",
    "\n",
    "classifier = SortedSpikesClassifier(\n",
    "    environments=environment,\n",
    "    continuous_transition_types=continuous_transition_types,\n",
    "    sorted_spikes_algorithm=\"spiking_likelihood_kde_gpu\",\n",
    "    sorted_spikes_algorithm_params={\n",
    "        \"position_std\": 6.0,\n",
    "        \"use_diffusion\": False,\n",
    "        \"block_size\": int(2**12),\n",
    "    },\n",
    ")\n",
    "\n",
    "classifier\n"
   ]
  },
  {
   "cell_type": "code",
   "execution_count": null,
   "metadata": {
    "tags": []
   },
   "outputs": [],
   "source": [
    "import cupy as cp\n",
    "import xarray as xr\n",
    "\n",
    "\n",
    "state_names = [\"continuous\", \"fragmented\"]\n",
    "\n",
    "GPU_ID = 8\n",
    "\n",
    "n_time = len(spikes)\n",
    "n_segments = 1\n",
    "\n",
    "results = []\n",
    "\n",
    "# use context manager to specify which GPU (device)\n",
    "with cp.cuda.Device(GPU_ID):\n",
    "    # Fit the place fields\n",
    "    classifier.fit(\n",
    "        position=position_info[[\"x\", \"y\"]],\n",
    "        spikes=spikes,\n",
    "    )\n",
    "\n",
    "    for ind in range(n_segments):\n",
    "        time_slice = slice(ind * n_time // n_segments, (ind + 1) * n_time // n_segments)\n",
    "        results.append(\n",
    "            classifier.predict(\n",
    "                spikes.iloc[time_slice],\n",
    "                time=spikes.iloc[time_slice].index.to_numpy(),\n",
    "                state_names=state_names,\n",
    "                use_gpu=True,\n",
    "            )\n",
    "        )\n",
    "    logging.info(\"Done!\")\n",
    "\n",
    "results = xr.concat(results, dim=\"time\")\n",
    "results\n"
   ]
  },
  {
   "cell_type": "code",
   "execution_count": null,
   "metadata": {
    "tags": []
   },
   "outputs": [],
   "source": [
    "results.drop([\"likelihood\", \"causal_posterior\"]).to_netcdf(\n",
    "    \"../Processed-Data/results_1.nc\"\n",
    ")\n"
   ]
  },
  {
   "cell_type": "code",
   "execution_count": null,
   "metadata": {
    "tags": []
   },
   "outputs": [],
   "source": [
    "classifier.save_model(\"../Processed-Data/classifier_1.pkl\")\n"
   ]
  },
  {
   "cell_type": "code",
   "execution_count": null,
   "metadata": {
    "tags": []
   },
   "outputs": [],
   "source": [
    "from src.plot_data import create_interactive_2D_decoding_figurl\n",
    "\n",
    "view = create_interactive_2D_decoding_figurl(\n",
    "    position_info,\n",
    "    multiunit_firing_rate,\n",
    "    results,\n",
    "    bin_size=environment.place_bin_size,\n",
    "    position_name=[\"x\", \"y\"],\n",
    "    speed_name=\"speed\",\n",
    "    posterior_type=\"acausal_posterior\",\n",
    "    view_height=800,\n",
    ")\n",
    "\n",
    "view.url(label=\"2D Decode\")\n"
   ]
  },
  {
   "cell_type": "code",
   "execution_count": null,
   "metadata": {},
   "outputs": [],
   "source": []
  },
  {
   "cell_type": "code",
   "execution_count": null,
   "metadata": {},
   "outputs": [],
   "source": []
  }
 ],
 "metadata": {
  "kernelspec": {
   "display_name": "Python [conda env:tk_decoding] *",
   "language": "python",
   "name": "conda-env-tk_decoding-py"
  },
  "language_info": {
   "codemirror_mode": {
    "name": "ipython",
    "version": 3
   },
   "file_extension": ".py",
   "mimetype": "text/x-python",
   "name": "python",
   "nbconvert_exporter": "python",
   "pygments_lexer": "ipython3",
   "version": "3.10.9"
  },
  "vscode": {
   "interpreter": {
    "hash": "627ff89663803390d6029c6ef63521b46a917beefb2bf6d3f4e7d4a2b3a6cd7d"
   }
  },
  "widgets": {
   "application/vnd.jupyter.widget-state+json": {
    "state": {},
    "version_major": 2,
    "version_minor": 0
   }
  }
 },
 "nbformat": 4,
 "nbformat_minor": 4
}
