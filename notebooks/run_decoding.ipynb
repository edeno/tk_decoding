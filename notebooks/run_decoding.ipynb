{
 "cells": [
  {
   "cell_type": "code",
   "execution_count": 1,
   "metadata": {},
   "outputs": [],
   "source": [
    "from src.load_data import load_data\n",
    "\n",
    "position_info, spikes, multiunit_firing_rate, multiunit_HSE_times = load_data()\n"
   ]
  },
  {
   "cell_type": "code",
   "execution_count": 3,
   "metadata": {},
   "outputs": [
    {
     "data": {
      "text/html": [
       "<style>#sk-container-id-2 {color: black;background-color: white;}#sk-container-id-2 pre{padding: 0;}#sk-container-id-2 div.sk-toggleable {background-color: white;}#sk-container-id-2 label.sk-toggleable__label {cursor: pointer;display: block;width: 100%;margin-bottom: 0;padding: 0.3em;box-sizing: border-box;text-align: center;}#sk-container-id-2 label.sk-toggleable__label-arrow:before {content: \"▸\";float: left;margin-right: 0.25em;color: #696969;}#sk-container-id-2 label.sk-toggleable__label-arrow:hover:before {color: black;}#sk-container-id-2 div.sk-estimator:hover label.sk-toggleable__label-arrow:before {color: black;}#sk-container-id-2 div.sk-toggleable__content {max-height: 0;max-width: 0;overflow: hidden;text-align: left;background-color: #f0f8ff;}#sk-container-id-2 div.sk-toggleable__content pre {margin: 0.2em;color: black;border-radius: 0.25em;background-color: #f0f8ff;}#sk-container-id-2 input.sk-toggleable__control:checked~div.sk-toggleable__content {max-height: 200px;max-width: 100%;overflow: auto;}#sk-container-id-2 input.sk-toggleable__control:checked~label.sk-toggleable__label-arrow:before {content: \"▾\";}#sk-container-id-2 div.sk-estimator input.sk-toggleable__control:checked~label.sk-toggleable__label {background-color: #d4ebff;}#sk-container-id-2 div.sk-label input.sk-toggleable__control:checked~label.sk-toggleable__label {background-color: #d4ebff;}#sk-container-id-2 input.sk-hidden--visually {border: 0;clip: rect(1px 1px 1px 1px);clip: rect(1px, 1px, 1px, 1px);height: 1px;margin: -1px;overflow: hidden;padding: 0;position: absolute;width: 1px;}#sk-container-id-2 div.sk-estimator {font-family: monospace;background-color: #f0f8ff;border: 1px dotted black;border-radius: 0.25em;box-sizing: border-box;margin-bottom: 0.5em;}#sk-container-id-2 div.sk-estimator:hover {background-color: #d4ebff;}#sk-container-id-2 div.sk-parallel-item::after {content: \"\";width: 100%;border-bottom: 1px solid gray;flex-grow: 1;}#sk-container-id-2 div.sk-label:hover label.sk-toggleable__label {background-color: #d4ebff;}#sk-container-id-2 div.sk-serial::before {content: \"\";position: absolute;border-left: 1px solid gray;box-sizing: border-box;top: 0;bottom: 0;left: 50%;z-index: 0;}#sk-container-id-2 div.sk-serial {display: flex;flex-direction: column;align-items: center;background-color: white;padding-right: 0.2em;padding-left: 0.2em;position: relative;}#sk-container-id-2 div.sk-item {position: relative;z-index: 1;}#sk-container-id-2 div.sk-parallel {display: flex;align-items: stretch;justify-content: center;background-color: white;position: relative;}#sk-container-id-2 div.sk-item::before, #sk-container-id-2 div.sk-parallel-item::before {content: \"\";position: absolute;border-left: 1px solid gray;box-sizing: border-box;top: 0;bottom: 0;left: 50%;z-index: -1;}#sk-container-id-2 div.sk-parallel-item {display: flex;flex-direction: column;z-index: 1;position: relative;background-color: white;}#sk-container-id-2 div.sk-parallel-item:first-child::after {align-self: flex-end;width: 50%;}#sk-container-id-2 div.sk-parallel-item:last-child::after {align-self: flex-start;width: 50%;}#sk-container-id-2 div.sk-parallel-item:only-child::after {width: 0;}#sk-container-id-2 div.sk-dashed-wrapped {border: 1px dashed gray;margin: 0 0.4em 0.5em 0.4em;box-sizing: border-box;padding-bottom: 0.4em;background-color: white;}#sk-container-id-2 div.sk-label label {font-family: monospace;font-weight: bold;display: inline-block;line-height: 1.2em;}#sk-container-id-2 div.sk-label-container {text-align: center;}#sk-container-id-2 div.sk-container {/* jupyter's `normalize.less` sets `[hidden] { display: none; }` but bootstrap.min.css set `[hidden] { display: none !important; }` so we also need the `!important` here to be able to override the default hidden behavior on the sphinx rendered scikit-learn.org. See: https://github.com/scikit-learn/scikit-learn/issues/21755 */display: inline-block !important;position: relative;}#sk-container-id-2 div.sk-text-repr-fallback {display: none;}</style><div id=\"sk-container-id-2\" class=\"sk-top-container\"><div class=\"sk-text-repr-fallback\"><pre>SortedSpikesClassifier(continuous_transition_types=[[RandomWalk(environment_name=&#x27;&#x27;,\n",
       "                                                                movement_var=12.0,\n",
       "                                                                movement_mean=0.0,\n",
       "                                                                use_diffusion=False),\n",
       "                                                     Uniform(environment_name=&#x27;&#x27;,\n",
       "                                                             environment2_name=None)],\n",
       "                                                    [Uniform(environment_name=&#x27;&#x27;,\n",
       "                                                             environment2_name=None),\n",
       "                                                     Uniform(environment_name=&#x27;&#x27;,\n",
       "                                                             environment2_name=None)]],\n",
       "                       discrete_transition_type=DiagonalDiscrete(diagona...\n",
       "                       infer_track_interior=True,\n",
       "                       initial_conditions_type=UniformInitialConditions(),\n",
       "                       observation_models=(ObservationModel(environment_name=&#x27;&#x27;,\n",
       "                                                            encoding_group=0),\n",
       "                                           ObservationModel(environment_name=&#x27;&#x27;,\n",
       "                                                            encoding_group=0)),\n",
       "                       sorted_spikes_algorithm=&#x27;spiking_likelihood_kde_gpu&#x27;,\n",
       "                       sorted_spikes_algorithm_params={&#x27;block_size&#x27;: 4096,\n",
       "                                                       &#x27;position_std&#x27;: 6.0,\n",
       "                                                       &#x27;use_diffusion&#x27;: False})</pre><b>In a Jupyter environment, please rerun this cell to show the HTML representation or trust the notebook. <br />On GitHub, the HTML representation is unable to render, please try loading this page with nbviewer.org.</b></div><div class=\"sk-container\" hidden><div class=\"sk-item\"><div class=\"sk-estimator sk-toggleable\"><input class=\"sk-toggleable__control sk-hidden--visually\" id=\"sk-estimator-id-2\" type=\"checkbox\" checked><label for=\"sk-estimator-id-2\" class=\"sk-toggleable__label sk-toggleable__label-arrow\">SortedSpikesClassifier</label><div class=\"sk-toggleable__content\"><pre>SortedSpikesClassifier(continuous_transition_types=[[RandomWalk(environment_name=&#x27;&#x27;,\n",
       "                                                                movement_var=12.0,\n",
       "                                                                movement_mean=0.0,\n",
       "                                                                use_diffusion=False),\n",
       "                                                     Uniform(environment_name=&#x27;&#x27;,\n",
       "                                                             environment2_name=None)],\n",
       "                                                    [Uniform(environment_name=&#x27;&#x27;,\n",
       "                                                             environment2_name=None),\n",
       "                                                     Uniform(environment_name=&#x27;&#x27;,\n",
       "                                                             environment2_name=None)]],\n",
       "                       discrete_transition_type=DiagonalDiscrete(diagona...\n",
       "                       infer_track_interior=True,\n",
       "                       initial_conditions_type=UniformInitialConditions(),\n",
       "                       observation_models=(ObservationModel(environment_name=&#x27;&#x27;,\n",
       "                                                            encoding_group=0),\n",
       "                                           ObservationModel(environment_name=&#x27;&#x27;,\n",
       "                                                            encoding_group=0)),\n",
       "                       sorted_spikes_algorithm=&#x27;spiking_likelihood_kde_gpu&#x27;,\n",
       "                       sorted_spikes_algorithm_params={&#x27;block_size&#x27;: 4096,\n",
       "                                                       &#x27;position_std&#x27;: 6.0,\n",
       "                                                       &#x27;use_diffusion&#x27;: False})</pre></div></div></div></div></div>"
      ],
      "text/plain": [
       "SortedSpikesClassifier(continuous_transition_types=[[RandomWalk(environment_name='',\n",
       "                                                                movement_var=12.0,\n",
       "                                                                movement_mean=0.0,\n",
       "                                                                use_diffusion=False),\n",
       "                                                     Uniform(environment_name='',\n",
       "                                                             environment2_name=None)],\n",
       "                                                    [Uniform(environment_name='',\n",
       "                                                             environment2_name=None),\n",
       "                                                     Uniform(environment_name='',\n",
       "                                                             environment2_name=None)]],\n",
       "                       discrete_transition_type=DiagonalDiscrete(diagona...\n",
       "                       infer_track_interior=True,\n",
       "                       initial_conditions_type=UniformInitialConditions(),\n",
       "                       observation_models=(ObservationModel(environment_name='',\n",
       "                                                            encoding_group=0),\n",
       "                                           ObservationModel(environment_name='',\n",
       "                                                            encoding_group=0)),\n",
       "                       sorted_spikes_algorithm='spiking_likelihood_kde_gpu',\n",
       "                       sorted_spikes_algorithm_params={'block_size': 4096,\n",
       "                                                       'position_std': 6.0,\n",
       "                                                       'use_diffusion': False})"
      ]
     },
     "execution_count": 3,
     "metadata": {},
     "output_type": "execute_result"
    }
   ],
   "source": [
    "from replay_trajectory_classification import (\n",
    "    SortedSpikesClassifier,\n",
    "    Environment,\n",
    "    RandomWalk,\n",
    "    Uniform,\n",
    ")\n",
    "\n",
    "\n",
    "environment = Environment(place_bin_size=3.0)\n",
    "continuous_transition_types = [\n",
    "    [RandomWalk(movement_var=12.0), Uniform()],\n",
    "    [Uniform(), Uniform()],\n",
    "]\n",
    "\n",
    "\n",
    "classifier = SortedSpikesClassifier(\n",
    "    environments=environment,\n",
    "    continuous_transition_types=continuous_transition_types,\n",
    "    sorted_spikes_algorithm=\"spiking_likelihood_kde_gpu\",\n",
    "    sorted_spikes_algorithm_params={\n",
    "        \"position_std\": 6.0,\n",
    "        \"use_diffusion\": False,\n",
    "        \"block_size\": int(2**12),\n",
    "    },\n",
    ")\n",
    "\n",
    "classifier\n"
   ]
  },
  {
   "cell_type": "code",
   "execution_count": null,
   "metadata": {},
   "outputs": [],
   "source": [
    "import cupy as cp\n",
    "\n",
    "\n",
    "state_names = [\"continuous\", \"fragmented\"]\n",
    "\n",
    "GPU_ID = 5\n",
    "\n",
    "# use context manager to specify which GPU (device)\n",
    "with cp.cuda.Device(GPU_ID):\n",
    "    # Fit the model place fields\n",
    "    classifier.fit(position=position_info[[\"x\", \"y\"]], spikes=spikes)\n",
    "\n",
    "    # Run the model on the simulated replay\n",
    "    results = classifier.predict(\n",
    "        spikes,\n",
    "        time=spikes.index,\n",
    "        state_names=state_names,\n",
    "        use_gpu=True,\n",
    "    )\n"
   ]
  },
  {
   "cell_type": "code",
   "execution_count": null,
   "metadata": {},
   "outputs": [],
   "source": []
  }
 ],
 "metadata": {
  "kernelspec": {
   "display_name": "tk_decoding",
   "language": "python",
   "name": "python3"
  },
  "language_info": {
   "codemirror_mode": {
    "name": "ipython",
    "version": 3
   },
   "file_extension": ".py",
   "mimetype": "text/x-python",
   "name": "python",
   "nbconvert_exporter": "python",
   "pygments_lexer": "ipython3",
   "version": "3.10.9"
  },
  "orig_nbformat": 4,
  "vscode": {
   "interpreter": {
    "hash": "627ff89663803390d6029c6ef63521b46a917beefb2bf6d3f4e7d4a2b3a6cd7d"
   }
  }
 },
 "nbformat": 4,
 "nbformat_minor": 2
}
