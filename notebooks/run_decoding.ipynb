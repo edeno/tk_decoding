{
 "cells": [
  {
   "cell_type": "code",
   "execution_count": 1,
   "metadata": {},
   "outputs": [],
   "source": [
    "import logging\n",
    "\n",
    "FORMAT = '%(asctime)s %(message)s'\n",
    "\n",
    "logging.basicConfig(level='INFO', format=FORMAT, datefmt='%d-%b-%y %H:%M:%S')"
   ]
  },
  {
   "cell_type": "code",
   "execution_count": 2,
   "metadata": {},
   "outputs": [
    {
     "name": "stderr",
     "output_type": "stream",
     "text": [
      "19-Feb-23 17:20:11 Note: detected 96 virtual cores but NumExpr set to maximum of 64, check \"NUMEXPR_MAX_THREADS\" environment variable.\n",
      "19-Feb-23 17:20:11 Note: NumExpr detected 96 cores but \"NUMEXPR_MAX_THREADS\" not set, so enforcing safe limit of 8.\n",
      "19-Feb-23 17:20:11 NumExpr defaulting to 8 threads.\n"
     ]
    }
   ],
   "source": [
    "from src.load_data import load_data\n",
    "\n",
    "\n",
    "position_info, spikes, multiunit_firing_rate, multiunit_HSE_times = load_data()"
   ]
  },
  {
   "cell_type": "code",
   "execution_count": 3,
   "metadata": {},
   "outputs": [
    {
     "name": "stderr",
     "output_type": "stream",
     "text": [
      "/home/edeno/miniconda3/envs/tk_decoding/lib/python3.10/site-packages/replay_trajectory_classification/likelihoods/multiunit_likelihood.py:12: TqdmExperimentalWarning: Using `tqdm.autonotebook.tqdm` in notebook mode. Use `tqdm.tqdm` instead to force console mode (e.g. in jupyter console)\n",
      "  from tqdm.autonotebook import tqdm\n"
     ]
    },
    {
     "data": {
      "text/html": [
       "<style>#sk-container-id-1 {color: black;background-color: white;}#sk-container-id-1 pre{padding: 0;}#sk-container-id-1 div.sk-toggleable {background-color: white;}#sk-container-id-1 label.sk-toggleable__label {cursor: pointer;display: block;width: 100%;margin-bottom: 0;padding: 0.3em;box-sizing: border-box;text-align: center;}#sk-container-id-1 label.sk-toggleable__label-arrow:before {content: \"▸\";float: left;margin-right: 0.25em;color: #696969;}#sk-container-id-1 label.sk-toggleable__label-arrow:hover:before {color: black;}#sk-container-id-1 div.sk-estimator:hover label.sk-toggleable__label-arrow:before {color: black;}#sk-container-id-1 div.sk-toggleable__content {max-height: 0;max-width: 0;overflow: hidden;text-align: left;background-color: #f0f8ff;}#sk-container-id-1 div.sk-toggleable__content pre {margin: 0.2em;color: black;border-radius: 0.25em;background-color: #f0f8ff;}#sk-container-id-1 input.sk-toggleable__control:checked~div.sk-toggleable__content {max-height: 200px;max-width: 100%;overflow: auto;}#sk-container-id-1 input.sk-toggleable__control:checked~label.sk-toggleable__label-arrow:before {content: \"▾\";}#sk-container-id-1 div.sk-estimator input.sk-toggleable__control:checked~label.sk-toggleable__label {background-color: #d4ebff;}#sk-container-id-1 div.sk-label input.sk-toggleable__control:checked~label.sk-toggleable__label {background-color: #d4ebff;}#sk-container-id-1 input.sk-hidden--visually {border: 0;clip: rect(1px 1px 1px 1px);clip: rect(1px, 1px, 1px, 1px);height: 1px;margin: -1px;overflow: hidden;padding: 0;position: absolute;width: 1px;}#sk-container-id-1 div.sk-estimator {font-family: monospace;background-color: #f0f8ff;border: 1px dotted black;border-radius: 0.25em;box-sizing: border-box;margin-bottom: 0.5em;}#sk-container-id-1 div.sk-estimator:hover {background-color: #d4ebff;}#sk-container-id-1 div.sk-parallel-item::after {content: \"\";width: 100%;border-bottom: 1px solid gray;flex-grow: 1;}#sk-container-id-1 div.sk-label:hover label.sk-toggleable__label {background-color: #d4ebff;}#sk-container-id-1 div.sk-serial::before {content: \"\";position: absolute;border-left: 1px solid gray;box-sizing: border-box;top: 0;bottom: 0;left: 50%;z-index: 0;}#sk-container-id-1 div.sk-serial {display: flex;flex-direction: column;align-items: center;background-color: white;padding-right: 0.2em;padding-left: 0.2em;position: relative;}#sk-container-id-1 div.sk-item {position: relative;z-index: 1;}#sk-container-id-1 div.sk-parallel {display: flex;align-items: stretch;justify-content: center;background-color: white;position: relative;}#sk-container-id-1 div.sk-item::before, #sk-container-id-1 div.sk-parallel-item::before {content: \"\";position: absolute;border-left: 1px solid gray;box-sizing: border-box;top: 0;bottom: 0;left: 50%;z-index: -1;}#sk-container-id-1 div.sk-parallel-item {display: flex;flex-direction: column;z-index: 1;position: relative;background-color: white;}#sk-container-id-1 div.sk-parallel-item:first-child::after {align-self: flex-end;width: 50%;}#sk-container-id-1 div.sk-parallel-item:last-child::after {align-self: flex-start;width: 50%;}#sk-container-id-1 div.sk-parallel-item:only-child::after {width: 0;}#sk-container-id-1 div.sk-dashed-wrapped {border: 1px dashed gray;margin: 0 0.4em 0.5em 0.4em;box-sizing: border-box;padding-bottom: 0.4em;background-color: white;}#sk-container-id-1 div.sk-label label {font-family: monospace;font-weight: bold;display: inline-block;line-height: 1.2em;}#sk-container-id-1 div.sk-label-container {text-align: center;}#sk-container-id-1 div.sk-container {/* jupyter's `normalize.less` sets `[hidden] { display: none; }` but bootstrap.min.css set `[hidden] { display: none !important; }` so we also need the `!important` here to be able to override the default hidden behavior on the sphinx rendered scikit-learn.org. See: https://github.com/scikit-learn/scikit-learn/issues/21755 */display: inline-block !important;position: relative;}#sk-container-id-1 div.sk-text-repr-fallback {display: none;}</style><div id=\"sk-container-id-1\" class=\"sk-top-container\"><div class=\"sk-text-repr-fallback\"><pre>SortedSpikesClassifier(continuous_transition_types=[[RandomWalk(environment_name=&#x27;&#x27;,\n",
       "                                                                movement_var=12.0,\n",
       "                                                                movement_mean=0.0,\n",
       "                                                                use_diffusion=False),\n",
       "                                                     Uniform(environment_name=&#x27;&#x27;,\n",
       "                                                             environment2_name=None)],\n",
       "                                                    [Uniform(environment_name=&#x27;&#x27;,\n",
       "                                                             environment2_name=None),\n",
       "                                                     Uniform(environment_name=&#x27;&#x27;,\n",
       "                                                             environment2_name=None)]],\n",
       "                       discrete_transition_type=DiagonalDiscrete(diagona...\n",
       "                       infer_track_interior=True,\n",
       "                       initial_conditions_type=UniformInitialConditions(),\n",
       "                       observation_models=(ObservationModel(environment_name=&#x27;&#x27;,\n",
       "                                                            encoding_group=0),\n",
       "                                           ObservationModel(environment_name=&#x27;&#x27;,\n",
       "                                                            encoding_group=0)),\n",
       "                       sorted_spikes_algorithm=&#x27;spiking_likelihood_kde_gpu&#x27;,\n",
       "                       sorted_spikes_algorithm_params={&#x27;block_size&#x27;: 1024,\n",
       "                                                       &#x27;position_std&#x27;: 6.0,\n",
       "                                                       &#x27;use_diffusion&#x27;: False})</pre><b>In a Jupyter environment, please rerun this cell to show the HTML representation or trust the notebook. <br />On GitHub, the HTML representation is unable to render, please try loading this page with nbviewer.org.</b></div><div class=\"sk-container\" hidden><div class=\"sk-item\"><div class=\"sk-estimator sk-toggleable\"><input class=\"sk-toggleable__control sk-hidden--visually\" id=\"sk-estimator-id-1\" type=\"checkbox\" checked><label for=\"sk-estimator-id-1\" class=\"sk-toggleable__label sk-toggleable__label-arrow\">SortedSpikesClassifier</label><div class=\"sk-toggleable__content\"><pre>SortedSpikesClassifier(continuous_transition_types=[[RandomWalk(environment_name=&#x27;&#x27;,\n",
       "                                                                movement_var=12.0,\n",
       "                                                                movement_mean=0.0,\n",
       "                                                                use_diffusion=False),\n",
       "                                                     Uniform(environment_name=&#x27;&#x27;,\n",
       "                                                             environment2_name=None)],\n",
       "                                                    [Uniform(environment_name=&#x27;&#x27;,\n",
       "                                                             environment2_name=None),\n",
       "                                                     Uniform(environment_name=&#x27;&#x27;,\n",
       "                                                             environment2_name=None)]],\n",
       "                       discrete_transition_type=DiagonalDiscrete(diagona...\n",
       "                       infer_track_interior=True,\n",
       "                       initial_conditions_type=UniformInitialConditions(),\n",
       "                       observation_models=(ObservationModel(environment_name=&#x27;&#x27;,\n",
       "                                                            encoding_group=0),\n",
       "                                           ObservationModel(environment_name=&#x27;&#x27;,\n",
       "                                                            encoding_group=0)),\n",
       "                       sorted_spikes_algorithm=&#x27;spiking_likelihood_kde_gpu&#x27;,\n",
       "                       sorted_spikes_algorithm_params={&#x27;block_size&#x27;: 1024,\n",
       "                                                       &#x27;position_std&#x27;: 6.0,\n",
       "                                                       &#x27;use_diffusion&#x27;: False})</pre></div></div></div></div></div>"
      ],
      "text/plain": [
       "SortedSpikesClassifier(continuous_transition_types=[[RandomWalk(environment_name='',\n",
       "                                                                movement_var=12.0,\n",
       "                                                                movement_mean=0.0,\n",
       "                                                                use_diffusion=False),\n",
       "                                                     Uniform(environment_name='',\n",
       "                                                             environment2_name=None)],\n",
       "                                                    [Uniform(environment_name='',\n",
       "                                                             environment2_name=None),\n",
       "                                                     Uniform(environment_name='',\n",
       "                                                             environment2_name=None)]],\n",
       "                       discrete_transition_type=DiagonalDiscrete(diagona...\n",
       "                       infer_track_interior=True,\n",
       "                       initial_conditions_type=UniformInitialConditions(),\n",
       "                       observation_models=(ObservationModel(environment_name='',\n",
       "                                                            encoding_group=0),\n",
       "                                           ObservationModel(environment_name='',\n",
       "                                                            encoding_group=0)),\n",
       "                       sorted_spikes_algorithm='spiking_likelihood_kde_gpu',\n",
       "                       sorted_spikes_algorithm_params={'block_size': 1024,\n",
       "                                                       'position_std': 6.0,\n",
       "                                                       'use_diffusion': False})"
      ]
     },
     "execution_count": 3,
     "metadata": {},
     "output_type": "execute_result"
    }
   ],
   "source": [
    "from replay_trajectory_classification import (\n",
    "    SortedSpikesClassifier,\n",
    "    Environment,\n",
    "    RandomWalk,\n",
    "    Uniform,\n",
    ")\n",
    "\n",
    "\n",
    "environment = Environment(place_bin_size=5.0)\n",
    "continuous_transition_types = [\n",
    "    [RandomWalk(movement_var=12.0), Uniform()],\n",
    "    [Uniform(), Uniform()],\n",
    "]\n",
    "\n",
    "\n",
    "classifier = SortedSpikesClassifier(\n",
    "    environments=environment,\n",
    "    continuous_transition_types=continuous_transition_types,\n",
    "    sorted_spikes_algorithm=\"spiking_likelihood_kde_gpu\",\n",
    "    sorted_spikes_algorithm_params={\n",
    "        \"position_std\": 6.0,\n",
    "        \"use_diffusion\": False,\n",
    "        \"block_size\": int(2**10),\n",
    "    },\n",
    ")\n",
    "\n",
    "classifier"
   ]
  },
  {
   "cell_type": "code",
   "execution_count": 4,
   "metadata": {},
   "outputs": [
    {
     "name": "stderr",
     "output_type": "stream",
     "text": [
      "19-Feb-23 17:21:32 Fitting initial conditions...\n",
      "19-Feb-23 17:21:32 Fitting continuous state transition...\n",
      "/home/edeno/miniconda3/envs/tk_decoding/lib/python3.10/site-packages/replay_trajectory_classification/continuous_state_transitions.py:12: RuntimeWarning: invalid value encountered in divide\n",
      "  x /= x.sum(axis=1, keepdims=True)\n",
      "19-Feb-23 17:21:40 Fitting discrete state transition\n",
      "19-Feb-23 17:21:40 Fitting place fields...\n"
     ]
    },
    {
     "data": {
      "application/vnd.jupyter.widget-view+json": {
       "model_id": "366ba22809244352af73ff972847f509",
       "version_major": 2,
       "version_minor": 0
      },
      "text/plain": [
       "  0%|          | 0/225 [00:00<?, ?it/s]"
      ]
     },
     "metadata": {},
     "output_type": "display_data"
    },
    {
     "name": "stderr",
     "output_type": "stream",
     "text": [
      "/home/edeno/miniconda3/envs/tk_decoding/lib/python3.10/site-packages/replay_trajectory_classification/likelihoods/spiking_likelihood_kde_gpu.py:107: RuntimeWarning: divide by zero encountered in log\n",
      "  np.log(mean_rate) + np.log(marginal_density) - np.log(occupancy)\n",
      "/home/edeno/miniconda3/envs/tk_decoding/lib/python3.10/site-packages/replay_trajectory_classification/likelihoods/spiking_likelihood_kde_gpu.py:107: RuntimeWarning: invalid value encountered in subtract\n",
      "  np.log(mean_rate) + np.log(marginal_density) - np.log(occupancy)\n",
      "19-Feb-23 17:24:02 Estimating likelihood...\n"
     ]
    },
    {
     "data": {
      "application/vnd.jupyter.widget-view+json": {
       "model_id": "ac815e578b58429c99144e3a9b845aad",
       "version_major": 2,
       "version_minor": 0
      },
      "text/plain": [
       "  0%|          | 0/225 [00:00<?, ?it/s]"
      ]
     },
     "metadata": {},
     "output_type": "display_data"
    },
    {
     "name": "stderr",
     "output_type": "stream",
     "text": [
      "19-Feb-23 17:26:40 Estimating causal posterior...\n",
      "19-Feb-23 17:29:55 Estimating acausal posterior...\n",
      "19-Feb-23 17:44:49 Estimating likelihood...\n"
     ]
    },
    {
     "data": {
      "application/vnd.jupyter.widget-view+json": {
       "model_id": "ebe02fa8835248ab82614488905dff50",
       "version_major": 2,
       "version_minor": 0
      },
      "text/plain": [
       "  0%|          | 0/225 [00:00<?, ?it/s]"
      ]
     },
     "metadata": {},
     "output_type": "display_data"
    },
    {
     "name": "stderr",
     "output_type": "stream",
     "text": [
      "19-Feb-23 17:57:38 Estimating causal posterior...\n",
      "19-Feb-23 18:04:07 Estimating acausal posterior...\n",
      "19-Feb-23 18:21:42 Estimating likelihood...\n"
     ]
    },
    {
     "data": {
      "application/vnd.jupyter.widget-view+json": {
       "model_id": "3acdd656dff84e7a968681cac77d21de",
       "version_major": 2,
       "version_minor": 0
      },
      "text/plain": [
       "  0%|          | 0/225 [00:00<?, ?it/s]"
      ]
     },
     "metadata": {},
     "output_type": "display_data"
    },
    {
     "name": "stderr",
     "output_type": "stream",
     "text": [
      "19-Feb-23 18:30:40 Estimating causal posterior...\n",
      "19-Feb-23 18:37:43 Estimating acausal posterior...\n"
     ]
    }
   ],
   "source": [
    "import cupy as cp\n",
    "import xarray as xr\n",
    "\n",
    "\n",
    "state_names = [\"continuous\", \"fragmented\"]\n",
    "\n",
    "GPU_ID = 9\n",
    "\n",
    "n_time = len(spikes)\n",
    "n_segments = 3\n",
    "\n",
    "results = []\n",
    "\n",
    "# use context manager to specify which GPU (device)\n",
    "with cp.cuda.Device(GPU_ID):\n",
    "    # Fit the place fields\n",
    "    classifier.fit(\n",
    "        position=position_info[[\"x\", \"y\"]],\n",
    "        spikes=spikes,\n",
    "    )\n",
    "\n",
    "    for ind in range(n_segments):\n",
    "        time_slice = slice(ind * n_time//n_segments, (ind + 1) * n_time//n_segments)\n",
    "        results.append(\n",
    "            classifier.predict(\n",
    "                spikes.iloc[time_slice],\n",
    "                time=spikes.iloc[time_slice].index.to_numpy(),\n",
    "                state_names=state_names,\n",
    "                use_gpu=True,\n",
    "            )\n",
    "        )\n",
    "\n",
    "results = xr.concat(results, dim=\"time\")\n",
    "results"
   ]
  },
  {
   "cell_type": "code",
   "execution_count": null,
   "metadata": {},
   "outputs": [],
   "source": [
    "results.drop([\"likelihood\", \"causal_posterior\"]).to_netcdf(\"../Processed-Data/results.nc\")"
   ]
  },
  {
   "cell_type": "code",
   "execution_count": null,
   "metadata": {},
   "outputs": [],
   "source": [
    "classifier.save_model(\"../Processed-Data/classifier.pkl\")"
   ]
  },
  {
   "cell_type": "code",
   "execution_count": 14,
   "metadata": {},
   "outputs": [],
   "source": [
    "from typing import Callable, Dict, Tuple\n",
    "\n",
    "import numpy as np\n",
    "import sortingview.views as vv\n",
    "import sortingview.views.franklab as vvf\n",
    "import xarray as xr\n",
    "from replay_trajectory_classification.environments import get_grid, get_track_interior\n",
    "\n",
    "from ripple_detection import get_multiunit_population_firing_rate\n",
    "\n",
    "\n",
    "def create_static_track_animation(\n",
    "    *,\n",
    "    track_rect_width: float,\n",
    "    track_rect_height: float,\n",
    "    ul_corners: np.ndarray,\n",
    "    timestamps: np.ndarray,\n",
    "    positions: np.ndarray,\n",
    "    compute_real_time_rate: bool = False,\n",
    "    head_dir=None,\n",
    "):\n",
    "    # float32 gives about 7 digits of decimal precision; we want 3 digits right of the decimal.\n",
    "    # So need to compress-store the timestamp if the start is greater than say 5000.\n",
    "    first_timestamp = 0\n",
    "    if timestamps[0] > 5000:\n",
    "        first_timestamp = timestamps[0]\n",
    "        timestamps -= first_timestamp\n",
    "    data = {\n",
    "        \"type\": \"TrackAnimation\",\n",
    "        \"trackBinWidth\": track_rect_width,\n",
    "        \"trackBinHeight\": track_rect_height,\n",
    "        \"trackBinULCorners\": ul_corners.astype(np.float32),\n",
    "        \"totalRecordingFrameLength\": len(timestamps),\n",
    "        \"timestamps\": timestamps.astype(np.float32),\n",
    "        \"positions\": positions.astype(np.float32),\n",
    "        \"xmin\": np.min(ul_corners[0]),\n",
    "        \"xmax\": np.max(ul_corners[0]) + track_rect_width,\n",
    "        \"ymin\": np.min(ul_corners[1]),\n",
    "        \"ymax\": np.max(ul_corners[1]) + track_rect_height\n",
    "        # Speed: should this be displayed?\n",
    "        # TODO: Better approach for accommodating further data streams\n",
    "    }\n",
    "    if head_dir is not None:\n",
    "        # print(f'Loading head direction: {head_dir}')\n",
    "        data[\"headDirection\"] = head_dir.astype(np.float32)\n",
    "    if compute_real_time_rate:\n",
    "        median_delta_t = np.median(np.diff(timestamps))\n",
    "        sampling_frequency_Hz = 1 / median_delta_t\n",
    "        data[\"samplingFrequencyHz\"] = sampling_frequency_Hz\n",
    "    if first_timestamp > 0:\n",
    "        data[\"timestampStart\"] = first_timestamp\n",
    "\n",
    "    return data\n",
    "\n",
    "\n",
    "def get_base_track_information(base_probabilities: xr.Dataset):\n",
    "    x_count = len(base_probabilities.x_position)\n",
    "    y_count = len(base_probabilities.y_position)\n",
    "    x_min = np.min(base_probabilities.x_position).item()\n",
    "    y_min = np.min(base_probabilities.y_position).item()\n",
    "    x_width = round(\n",
    "        (np.max(base_probabilities.x_position).item() - x_min) / (x_count - 1), 6\n",
    "    )\n",
    "    y_width = round(\n",
    "        (np.max(base_probabilities.y_position).item() - y_min) / (y_count - 1), 6\n",
    "    )\n",
    "    return (x_count, x_min, x_width, y_count, y_min, y_width)\n",
    "\n",
    "\n",
    "def memo_linearize(\n",
    "    t: Tuple[float, float, float],\n",
    "    /,\n",
    "    location_lookup: Dict[Tuple[float, float], int],\n",
    "    x_count: int,\n",
    "    x_min: float,\n",
    "    x_width: float,\n",
    "    y_min: float,\n",
    "    y_width: float,\n",
    "):\n",
    "    (_, y, x) = t\n",
    "    my_tuple = (x, y)\n",
    "    if my_tuple not in location_lookup:\n",
    "        lin = x_count * round((y - y_min) / y_width) + round((x - x_min) / x_width)\n",
    "        location_lookup[my_tuple] = lin\n",
    "    return location_lookup[my_tuple]\n",
    "\n",
    "\n",
    "def generate_linearization_function(\n",
    "    location_lookup: Dict[Tuple[float, float], int],\n",
    "    x_count: int,\n",
    "    x_min: float,\n",
    "    x_width: float,\n",
    "    y_min: float,\n",
    "    y_width: float,\n",
    "):\n",
    "    args = {\n",
    "        \"location_lookup\": location_lookup,\n",
    "        \"x_count\": x_count,\n",
    "        \"x_min\": x_min,\n",
    "        \"x_width\": x_width,\n",
    "        \"y_min\": y_min,\n",
    "        \"y_width\": y_width,\n",
    "    }\n",
    "\n",
    "    def inner(t: Tuple[float, float, float]):\n",
    "        return memo_linearize(t, **args)\n",
    "\n",
    "    return inner\n",
    "\n",
    "\n",
    "def discretize_and_trim(base_slice: xr.DataArray):\n",
    "    i = np.multiply(base_slice, 255).astype(np.uint8)\n",
    "    i_stack = i.stack(unified_index=[\"time\", \"y_position\", \"x_position\"])\n",
    "\n",
    "    return i_stack.where(i_stack > 0, drop=True).astype(np.uint8)\n",
    "\n",
    "\n",
    "def get_positions(\n",
    "    i_trim: xr.Dataset, linearization_fn: Callable[[Tuple[float, float]], int]\n",
    "):\n",
    "    linearizer_map = map(linearization_fn, i_trim.unified_index.values)\n",
    "    return np.array(list(linearizer_map), dtype=np.uint16)\n",
    "\n",
    "\n",
    "def get_observations_per_frame(i_trim: xr.DataArray, base_slice: xr.DataArray):\n",
    "    (times, time_counts_np) = np.unique(i_trim.time.values, return_counts=True)\n",
    "    time_counts = xr.DataArray(time_counts_np, coords={\"time\": times})\n",
    "    raw_times = base_slice.time\n",
    "    (_, good_counts) = xr.align(raw_times, time_counts, join=\"left\", fill_value=0)\n",
    "    observations_per_frame = good_counts.values.astype(np.uint8)\n",
    "    return observations_per_frame\n",
    "\n",
    "\n",
    "def extract_slice_data(\n",
    "    base_slice: xr.DataArray, location_fn: Callable[[Tuple[float, float]], int]\n",
    "):\n",
    "    i_trim = discretize_and_trim(base_slice)\n",
    "\n",
    "    positions = get_positions(i_trim, location_fn)\n",
    "    observations_per_frame = get_observations_per_frame(i_trim, base_slice)\n",
    "    return i_trim.values, positions, observations_per_frame\n",
    "\n",
    "\n",
    "def process_decoded_data(posterior: xr.DataArray):\n",
    "    frame_step_size = 100_000\n",
    "    location_lookup = {}\n",
    "\n",
    "    (x_count, x_min, x_width, y_count, y_min, y_width) = get_base_track_information(\n",
    "        posterior\n",
    "    )\n",
    "    location_fn = generate_linearization_function(\n",
    "        location_lookup, x_count, x_min, x_width, y_min, y_width\n",
    "    )\n",
    "\n",
    "    total_frame_count = len(posterior.time)\n",
    "    final_frame_bounds = np.zeros(total_frame_count, dtype=np.uint8)\n",
    "    # intentionally oversized preallocation--will trim later\n",
    "    # Note: By definition there can't be more than 255 observations per frame (since we drop any observation\n",
    "    # lower than 1/255 and the probabilities for any frame sum to 1). However, this preallocation may be way\n",
    "    # too big for memory for long recordings. We could use a smaller one, but would need to include logic\n",
    "    # to expand the length of the array if its actual allocated bounds are exceeded.\n",
    "    final_values = np.zeros(total_frame_count * 255, dtype=np.uint8)\n",
    "    final_locations = np.zeros(total_frame_count * 255, dtype=np.uint16)\n",
    "\n",
    "    frames_done = 0\n",
    "    total_observations = 0\n",
    "    while frames_done <= total_frame_count:\n",
    "        base_slice = posterior.isel(\n",
    "            time=slice(frames_done, frames_done + frame_step_size)\n",
    "        )\n",
    "        observations, positions, observations_per_frame = extract_slice_data(\n",
    "            base_slice, location_fn\n",
    "        )\n",
    "        final_frame_bounds[\n",
    "            frames_done : frames_done + len(observations_per_frame)\n",
    "        ] = observations_per_frame\n",
    "        final_values[\n",
    "            total_observations : total_observations + len(observations)\n",
    "        ] = observations\n",
    "        final_locations[\n",
    "            total_observations : total_observations + len(observations)\n",
    "        ] = positions\n",
    "        total_observations += len(observations)\n",
    "        frames_done += frame_step_size\n",
    "    # These were intentionally oversized in preallocation; trim to the number of actual values.\n",
    "    final_values.resize(total_observations)\n",
    "    final_locations.resize(total_observations)\n",
    "\n",
    "    return {\n",
    "        \"type\": \"DecodedPositionData\",\n",
    "        \"xmin\": x_min,\n",
    "        \"binWidth\": x_width,\n",
    "        \"xcount\": x_count,\n",
    "        \"ymin\": y_min,\n",
    "        \"binHeight\": y_width,\n",
    "        \"ycount\": y_count,\n",
    "        \"uniqueLocations\": np.unique(final_locations),\n",
    "        \"values\": final_values,\n",
    "        \"locations\": final_locations,\n",
    "        \"frameBounds\": final_frame_bounds,\n",
    "    }\n",
    "\n",
    "\n",
    "def create_track_animation_object(*, static_track_animation: any):\n",
    "    if \"decodedData\" in static_track_animation:\n",
    "        decoded_data = static_track_animation[\"decodedData\"]\n",
    "        decoded_data_obj = vvf.DecodedPositionData(\n",
    "            x_min=decoded_data[\"xmin\"],\n",
    "            x_count=decoded_data[\"xcount\"],\n",
    "            y_min=decoded_data[\"ymin\"],\n",
    "            y_count=decoded_data[\"ycount\"],\n",
    "            bin_width=decoded_data[\"binWidth\"],\n",
    "            bin_height=decoded_data[\"binHeight\"],\n",
    "            values=decoded_data[\"values\"].astype(np.int16),\n",
    "            locations=decoded_data[\"locations\"],\n",
    "            frame_bounds=decoded_data[\"frameBounds\"].astype(np.int16),\n",
    "        )\n",
    "    else:\n",
    "        decoded_data_obj = None\n",
    "\n",
    "    timestamp_start = (\n",
    "        static_track_animation[\"timestampStart\"]\n",
    "        if \"timestampStart\" in static_track_animation\n",
    "        else None\n",
    "    )\n",
    "    head_direction = (\n",
    "        static_track_animation[\"headDirection\"]\n",
    "        if \"headDirection\" in static_track_animation\n",
    "        else None\n",
    "    )\n",
    "    return vvf.TrackPositionAnimationV1(\n",
    "        track_bin_width=static_track_animation[\"trackBinWidth\"],\n",
    "        track_bin_height=static_track_animation[\"trackBinHeight\"],\n",
    "        track_bin_ul_corners=static_track_animation[\"trackBinULCorners\"],\n",
    "        total_recording_frame_length=static_track_animation[\n",
    "            \"totalRecordingFrameLength\"\n",
    "        ],\n",
    "        timestamp_start=timestamp_start,\n",
    "        timestamps=static_track_animation[\"timestamps\"],\n",
    "        positions=static_track_animation[\"positions\"],\n",
    "        x_min=static_track_animation[\"xmin\"],\n",
    "        x_max=static_track_animation[\"xmax\"],\n",
    "        y_min=static_track_animation[\"ymin\"],\n",
    "        y_max=static_track_animation[\"ymax\"],\n",
    "        sampling_frequency_hz=static_track_animation[\"samplingFrequencyHz\"],\n",
    "        head_direction=head_direction,\n",
    "        decoded_data=decoded_data_obj,\n",
    "    )\n",
    "\n",
    "\n",
    "def get_ul_corners(width: float, height: float, centers):\n",
    "    ul = np.subtract(centers, (width / 2, -height / 2))\n",
    "\n",
    "    # Reshape so we have an x array and a y array\n",
    "    return ul.T\n",
    "\n",
    "\n",
    "def make_track(position, bin_size: float = 1.0):\n",
    "    (edges, _, place_bin_centers, _) = get_grid(position, bin_size)\n",
    "    is_track_interior = get_track_interior(position, edges)\n",
    "\n",
    "    # bin dimensions are the difference between bin centers in the x and y directions.\n",
    "    bin_width = np.max(np.diff(place_bin_centers, axis=0)[:, 0])\n",
    "    bin_height = np.max(np.diff(place_bin_centers, axis=0)[:, 1])\n",
    "\n",
    "    # so we can represent the track as a collection of rectangles of width bin_width and height bin_height,\n",
    "    # centered on the values of place_bin_centers where track_interior = true.\n",
    "    # Note, the original code uses Fortran ordering.\n",
    "    true_ctrs = place_bin_centers[is_track_interior.ravel(order=\"F\")]\n",
    "    upper_left_points = get_ul_corners(bin_width, bin_height, true_ctrs)\n",
    "\n",
    "    return bin_width, bin_height, upper_left_points\n",
    "\n",
    "\n",
    "def create_2D_decode_view(\n",
    "    position_time: np.ndarray,\n",
    "    position: np.ndarray,\n",
    "    posterior: xr.DataArray,\n",
    "    bin_size: float,\n",
    "    head_dir: np.ndarray = None,\n",
    ") -> vvf.TrackPositionAnimationV1:\n",
    "    \"\"\"Creates a 2D decoding movie view\n",
    "\n",
    "    Parameters\n",
    "    ----------\n",
    "    position_time : np.ndarray, shape (n_time,)\n",
    "    position : np.ndarray, shape (n_time, 2)\n",
    "    posterior : xr.DataArray, shape (n_time, n_position_bins)\n",
    "    bin_size : float\n",
    "    head_dir : np.ndarray, optional\n",
    "\n",
    "    Returns\n",
    "    -------\n",
    "    view : vvf.TrackPositionAnimationV1\n",
    "\n",
    "    \"\"\"\n",
    "    position_time = np.squeeze(np.asarray(position_time)).copy()\n",
    "    position = np.asarray(position)\n",
    "    if head_dir is not None:\n",
    "        head_dir = np.squeeze(np.asarray(head_dir))\n",
    "\n",
    "    track_width, track_height, upper_left_points = make_track(\n",
    "        position, bin_size=bin_size\n",
    "    )\n",
    "\n",
    "    data = create_static_track_animation(\n",
    "        ul_corners=upper_left_points,\n",
    "        track_rect_height=track_height,\n",
    "        track_rect_width=track_width,\n",
    "        timestamps=position_time,\n",
    "        positions=position.T,\n",
    "        head_dir=head_dir,\n",
    "        compute_real_time_rate=True,\n",
    "    )\n",
    "    data[\"decodedData\"] = process_decoded_data(posterior)\n",
    "\n",
    "    return create_track_animation_object(static_track_animation=data)\n",
    "\n",
    "\n",
    "def create_interactive_2D_decoding_figurl(\n",
    "    position_info,\n",
    "    multiunit_firing_rate,\n",
    "    results,\n",
    "    bin_size,\n",
    "    position_name=[\"x\", \"y\"],\n",
    "    speed_name=\"speed\",\n",
    "    posterior_type=\"acausal_posterior\",\n",
    "    view_height=800,\n",
    "):\n",
    "    decode_view = create_2D_decode_view(\n",
    "        position_time=position_info.index,\n",
    "        position=position_info[position_name],\n",
    "        posterior=results[posterior_type].sum(\"state\"),\n",
    "        bin_size=bin_size,\n",
    "        head_dir=None,\n",
    "    )\n",
    "\n",
    "    probability_view = vv.TimeseriesGraph()\n",
    "    COLOR_CYCLE = [\n",
    "        \"#1f77b4\",\n",
    "        \"#ff7f0e\",\n",
    "        \"#2ca02c\",\n",
    "        \"#d62728\",\n",
    "        \"#9467bd\",\n",
    "        \"#8c564b\",\n",
    "        \"#e377c2\",\n",
    "        \"#7f7f7f\",\n",
    "        \"#bcbd22\",\n",
    "        \"#17becf\",\n",
    "    ]\n",
    "    for state, color in zip(results.state.values, COLOR_CYCLE):\n",
    "        probability_view.add_line_series(\n",
    "            name=state,\n",
    "            t=np.asarray(results.time),\n",
    "            y=np.asarray(\n",
    "                results[posterior_type]\n",
    "                .sel(state=state)\n",
    "                .sum([\"x_position\", \"y_position\"]),\n",
    "                dtype=np.float32,\n",
    "            ),\n",
    "            color=color,\n",
    "            width=1,\n",
    "        )\n",
    "\n",
    "    speed_view = vv.TimeseriesGraph().add_line_series(\n",
    "        name=\"Speed [cm/s]\",\n",
    "        t=np.asarray(position_info.index),\n",
    "        y=np.asarray(position_info[speed_name], dtype=np.float32),\n",
    "        color=\"black\",\n",
    "        width=1,\n",
    "    )\n",
    "\n",
    "    multiunit_firing_rate_view = vv.TimeseriesGraph().add_line_series(\n",
    "        name=\"Multiunit Rate [spikes/s]\",\n",
    "        t=np.asarray(multiunit_firing_rate.index),\n",
    "        y=np.asarray(multiunit_firing_rate, dtype=np.float32),\n",
    "        color=\"black\",\n",
    "        width=1,\n",
    "    )\n",
    "\n",
    "    vertical_panel1_content = [\n",
    "        vv.LayoutItem(decode_view, stretch=1, title=\"Decode\"),\n",
    "    ]\n",
    "\n",
    "    vertical_panel2_content = [\n",
    "        vv.LayoutItem(probability_view, stretch=1, title=\"Probability of State\"),\n",
    "        vv.LayoutItem(speed_view, stretch=1, title=\"Speed\"),\n",
    "        vv.LayoutItem(multiunit_firing_rate_view, stretch=1, title=\"Multiunit\"),\n",
    "    ]\n",
    "\n",
    "    view = vv.Box(\n",
    "        direction=\"horizontal\",\n",
    "        show_titles=True,\n",
    "        height=view_height,\n",
    "        items=[\n",
    "            vv.LayoutItem(\n",
    "                vv.Box(\n",
    "                    direction=\"vertical\",\n",
    "                    show_titles=True,\n",
    "                    items=vertical_panel1_content,\n",
    "                )\n",
    "            ),\n",
    "            vv.LayoutItem(\n",
    "                vv.Box(\n",
    "                    direction=\"vertical\",\n",
    "                    show_titles=True,\n",
    "                    items=vertical_panel2_content,\n",
    "                )\n",
    "            ),\n",
    "        ],\n",
    "    )\n",
    "\n",
    "    return view\n"
   ]
  },
  {
   "cell_type": "code",
   "execution_count": null,
   "metadata": {},
   "outputs": [],
   "source": [
    "view = create_interactive_2D_decoding_figurl(\n",
    "    position_info,\n",
    "    multiunit_firing_rate,\n",
    "    results,\n",
    "    bin_size=5.0,\n",
    "    position_name=[\"x\", \"y\"],\n",
    "    speed_name=\"speed\",\n",
    "    posterior_type=\"acausal_posterior\",\n",
    "    view_height=800,\n",
    ")"
   ]
  },
  {
   "cell_type": "code",
   "execution_count": null,
   "metadata": {},
   "outputs": [],
   "source": [
    "view.url(label=\"2D Decode\")"
   ]
  },
  {
   "cell_type": "code",
   "execution_count": null,
   "metadata": {},
   "outputs": [],
   "source": []
  }
 ],
 "metadata": {
  "kernelspec": {
   "display_name": "Python [conda env:tk_decoding] *",
   "language": "python",
   "name": "conda-env-tk_decoding-py"
  },
  "language_info": {
   "codemirror_mode": {
    "name": "ipython",
    "version": 3
   },
   "file_extension": ".py",
   "mimetype": "text/x-python",
   "name": "python",
   "nbconvert_exporter": "python",
   "pygments_lexer": "ipython3",
   "version": "3.10.9"
  },
  "vscode": {
   "interpreter": {
    "hash": "627ff89663803390d6029c6ef63521b46a917beefb2bf6d3f4e7d4a2b3a6cd7d"
   }
  },
  "widgets": {
   "application/vnd.jupyter.widget-state+json": {
    "state": {
     "0d76800e3d2d4e72b93f125f076db592": {
      "model_module": "@jupyter-widgets/controls",
      "model_module_version": "1.5.0",
      "model_name": "HTMLModel",
      "state": {
       "layout": "IPY_MODEL_bf0133d559104ab6a2e6bb9382eb1e47",
       "style": "IPY_MODEL_f71369d013564eb391ba124fce676216",
       "value": " 225/225 [00:58&lt;00:00,  3.80it/s]"
      }
     },
     "0dfd969c8c9f4766815de9b4ebaaecb5": {
      "model_module": "@jupyter-widgets/controls",
      "model_module_version": "1.5.0",
      "model_name": "DescriptionStyleModel",
      "state": {
       "description_width": ""
      }
     },
     "128d40f9ae9a4f3197e3200d9aed57c0": {
      "model_module": "@jupyter-widgets/base",
      "model_module_version": "1.2.0",
      "model_name": "LayoutModel",
      "state": {}
     },
     "152b41b5bc8840f6bc186ac211e4871f": {
      "model_module": "@jupyter-widgets/base",
      "model_module_version": "1.2.0",
      "model_name": "LayoutModel",
      "state": {}
     },
     "187e963bd6d44caea19138db5abc85c9": {
      "model_module": "@jupyter-widgets/controls",
      "model_module_version": "1.5.0",
      "model_name": "DescriptionStyleModel",
      "state": {
       "description_width": ""
      }
     },
     "1ca8fc1815e2457aac85f0a645906113": {
      "model_module": "@jupyter-widgets/controls",
      "model_module_version": "1.5.0",
      "model_name": "HTMLModel",
      "state": {
       "layout": "IPY_MODEL_486e2e6543c74c0aa3d921b246f63378",
       "style": "IPY_MODEL_8a0f74a05bef4f21853e9726869ab1bd",
       "value": " 225/225 [01:52&lt;00:00,  1.01s/it]"
      }
     },
     "2482b9fcae3f4c1f8650f90ab9b97097": {
      "model_module": "@jupyter-widgets/controls",
      "model_module_version": "1.5.0",
      "model_name": "HTMLModel",
      "state": {
       "layout": "IPY_MODEL_da2043484e0e4ea782c2ee4622ef3a35",
       "style": "IPY_MODEL_c80477d9458f478c8009261150038788",
       "value": " 225/225 [01:57&lt;00:00,  1.91it/s]"
      }
     },
     "2ce2309c641540d3bd498bd70a66bd6e": {
      "model_module": "@jupyter-widgets/controls",
      "model_module_version": "1.5.0",
      "model_name": "FloatProgressModel",
      "state": {
       "bar_style": "success",
       "layout": "IPY_MODEL_39de27aa6cd043f6aadde6d142aeb104",
       "max": 225,
       "style": "IPY_MODEL_d3bb2efeec0b40de873363d29d3b32f0",
       "value": 225
      }
     },
     "2d7df657198241c4b3c7b192622b1bb6": {
      "model_module": "@jupyter-widgets/controls",
      "model_module_version": "1.5.0",
      "model_name": "HTMLModel",
      "state": {
       "layout": "IPY_MODEL_f1a5e6b17f2542d081b80489a9295e79",
       "style": "IPY_MODEL_3401e0dda52c41e9b9b3ea82a9a2f736",
       "value": "100%"
      }
     },
     "3401e0dda52c41e9b9b3ea82a9a2f736": {
      "model_module": "@jupyter-widgets/controls",
      "model_module_version": "1.5.0",
      "model_name": "DescriptionStyleModel",
      "state": {
       "description_width": ""
      }
     },
     "3587afdd37444e20b616d68250a9a327": {
      "model_module": "@jupyter-widgets/controls",
      "model_module_version": "1.5.0",
      "model_name": "ProgressStyleModel",
      "state": {
       "description_width": ""
      }
     },
     "366ba22809244352af73ff972847f509": {
      "model_module": "@jupyter-widgets/controls",
      "model_module_version": "1.5.0",
      "model_name": "HBoxModel",
      "state": {
       "children": [
        "IPY_MODEL_4712c541834645b488600c5d7d6929ff",
        "IPY_MODEL_84f146d973314bd2bd10e65fa3b74e76",
        "IPY_MODEL_1ca8fc1815e2457aac85f0a645906113"
       ],
       "layout": "IPY_MODEL_6ba5db8ba9aa4fc19612d52066140d47"
      }
     },
     "38bccf2ec5e444e9a09874a5fb8ea3b5": {
      "model_module": "@jupyter-widgets/base",
      "model_module_version": "1.2.0",
      "model_name": "LayoutModel",
      "state": {}
     },
     "39de27aa6cd043f6aadde6d142aeb104": {
      "model_module": "@jupyter-widgets/base",
      "model_module_version": "1.2.0",
      "model_name": "LayoutModel",
      "state": {}
     },
     "3acdd656dff84e7a968681cac77d21de": {
      "model_module": "@jupyter-widgets/controls",
      "model_module_version": "1.5.0",
      "model_name": "HBoxModel",
      "state": {
       "children": [
        "IPY_MODEL_2d7df657198241c4b3c7b192622b1bb6",
        "IPY_MODEL_ef768d2708134d01a262a2e63221f279",
        "IPY_MODEL_3b075ce94aaf43f3966ad5908b559c88"
       ],
       "layout": "IPY_MODEL_38bccf2ec5e444e9a09874a5fb8ea3b5"
      }
     },
     "3b075ce94aaf43f3966ad5908b559c88": {
      "model_module": "@jupyter-widgets/controls",
      "model_module_version": "1.5.0",
      "model_name": "HTMLModel",
      "state": {
       "layout": "IPY_MODEL_c6a26cc724b24b6293842edec0a2e0c2",
       "style": "IPY_MODEL_478e53135eba4785a53969a1d2556696",
       "value": " 225/225 [00:58&lt;00:00,  3.82it/s]"
      }
     },
     "4712c541834645b488600c5d7d6929ff": {
      "model_module": "@jupyter-widgets/controls",
      "model_module_version": "1.5.0",
      "model_name": "HTMLModel",
      "state": {
       "layout": "IPY_MODEL_6bd40305aba043b5b2da7493ea946325",
       "style": "IPY_MODEL_e7871824b92a4e2b8a802dba24a3dc9d",
       "value": "100%"
      }
     },
     "4750e8878e224f358f2c227d229d52eb": {
      "model_module": "@jupyter-widgets/base",
      "model_module_version": "1.2.0",
      "model_name": "LayoutModel",
      "state": {}
     },
     "478e53135eba4785a53969a1d2556696": {
      "model_module": "@jupyter-widgets/controls",
      "model_module_version": "1.5.0",
      "model_name": "DescriptionStyleModel",
      "state": {
       "description_width": ""
      }
     },
     "486e2e6543c74c0aa3d921b246f63378": {
      "model_module": "@jupyter-widgets/base",
      "model_module_version": "1.2.0",
      "model_name": "LayoutModel",
      "state": {}
     },
     "4cd37a3bbd4e454b8ddcb852738bc22b": {
      "model_module": "@jupyter-widgets/base",
      "model_module_version": "1.2.0",
      "model_name": "LayoutModel",
      "state": {}
     },
     "6ba5db8ba9aa4fc19612d52066140d47": {
      "model_module": "@jupyter-widgets/base",
      "model_module_version": "1.2.0",
      "model_name": "LayoutModel",
      "state": {}
     },
     "6bd40305aba043b5b2da7493ea946325": {
      "model_module": "@jupyter-widgets/base",
      "model_module_version": "1.2.0",
      "model_name": "LayoutModel",
      "state": {}
     },
     "731be1d57e5d477dac95ec84b884fbf0": {
      "model_module": "@jupyter-widgets/base",
      "model_module_version": "1.2.0",
      "model_name": "LayoutModel",
      "state": {}
     },
     "7870160b4b6543158f6b60a3975bbb17": {
      "model_module": "@jupyter-widgets/controls",
      "model_module_version": "1.5.0",
      "model_name": "HTMLModel",
      "state": {
       "layout": "IPY_MODEL_128d40f9ae9a4f3197e3200d9aed57c0",
       "style": "IPY_MODEL_187e963bd6d44caea19138db5abc85c9",
       "value": "100%"
      }
     },
     "84f146d973314bd2bd10e65fa3b74e76": {
      "model_module": "@jupyter-widgets/controls",
      "model_module_version": "1.5.0",
      "model_name": "FloatProgressModel",
      "state": {
       "bar_style": "success",
       "layout": "IPY_MODEL_4cd37a3bbd4e454b8ddcb852738bc22b",
       "max": 225,
       "style": "IPY_MODEL_3587afdd37444e20b616d68250a9a327",
       "value": 225
      }
     },
     "85b00ca77ced4871aeab0dcea0e92c05": {
      "model_module": "@jupyter-widgets/controls",
      "model_module_version": "1.5.0",
      "model_name": "FloatProgressModel",
      "state": {
       "bar_style": "success",
       "layout": "IPY_MODEL_152b41b5bc8840f6bc186ac211e4871f",
       "max": 225,
       "style": "IPY_MODEL_e4749cdb126744b19a70656b87043299",
       "value": 225
      }
     },
     "8a0f74a05bef4f21853e9726869ab1bd": {
      "model_module": "@jupyter-widgets/controls",
      "model_module_version": "1.5.0",
      "model_name": "DescriptionStyleModel",
      "state": {
       "description_width": ""
      }
     },
     "8e2e03d1f6bd43ab88c92ada27dd3ad3": {
      "model_module": "@jupyter-widgets/base",
      "model_module_version": "1.2.0",
      "model_name": "LayoutModel",
      "state": {}
     },
     "ac815e578b58429c99144e3a9b845aad": {
      "model_module": "@jupyter-widgets/controls",
      "model_module_version": "1.5.0",
      "model_name": "HBoxModel",
      "state": {
       "children": [
        "IPY_MODEL_d48e0cadebd64fffae8c827b5caedd08",
        "IPY_MODEL_2ce2309c641540d3bd498bd70a66bd6e",
        "IPY_MODEL_2482b9fcae3f4c1f8650f90ab9b97097"
       ],
       "layout": "IPY_MODEL_d04c8605f10c463aa2521f37985f3819"
      }
     },
     "b6d497412db44fb98b0c71437a81318b": {
      "model_module": "@jupyter-widgets/controls",
      "model_module_version": "1.5.0",
      "model_name": "ProgressStyleModel",
      "state": {
       "description_width": ""
      }
     },
     "bf0133d559104ab6a2e6bb9382eb1e47": {
      "model_module": "@jupyter-widgets/base",
      "model_module_version": "1.2.0",
      "model_name": "LayoutModel",
      "state": {}
     },
     "c6a26cc724b24b6293842edec0a2e0c2": {
      "model_module": "@jupyter-widgets/base",
      "model_module_version": "1.2.0",
      "model_name": "LayoutModel",
      "state": {}
     },
     "c80477d9458f478c8009261150038788": {
      "model_module": "@jupyter-widgets/controls",
      "model_module_version": "1.5.0",
      "model_name": "DescriptionStyleModel",
      "state": {
       "description_width": ""
      }
     },
     "d04c8605f10c463aa2521f37985f3819": {
      "model_module": "@jupyter-widgets/base",
      "model_module_version": "1.2.0",
      "model_name": "LayoutModel",
      "state": {}
     },
     "d3bb2efeec0b40de873363d29d3b32f0": {
      "model_module": "@jupyter-widgets/controls",
      "model_module_version": "1.5.0",
      "model_name": "ProgressStyleModel",
      "state": {
       "description_width": ""
      }
     },
     "d48e0cadebd64fffae8c827b5caedd08": {
      "model_module": "@jupyter-widgets/controls",
      "model_module_version": "1.5.0",
      "model_name": "HTMLModel",
      "state": {
       "layout": "IPY_MODEL_731be1d57e5d477dac95ec84b884fbf0",
       "style": "IPY_MODEL_0dfd969c8c9f4766815de9b4ebaaecb5",
       "value": "100%"
      }
     },
     "da2043484e0e4ea782c2ee4622ef3a35": {
      "model_module": "@jupyter-widgets/base",
      "model_module_version": "1.2.0",
      "model_name": "LayoutModel",
      "state": {}
     },
     "e4749cdb126744b19a70656b87043299": {
      "model_module": "@jupyter-widgets/controls",
      "model_module_version": "1.5.0",
      "model_name": "ProgressStyleModel",
      "state": {
       "description_width": ""
      }
     },
     "e7871824b92a4e2b8a802dba24a3dc9d": {
      "model_module": "@jupyter-widgets/controls",
      "model_module_version": "1.5.0",
      "model_name": "DescriptionStyleModel",
      "state": {
       "description_width": ""
      }
     },
     "ebe02fa8835248ab82614488905dff50": {
      "model_module": "@jupyter-widgets/controls",
      "model_module_version": "1.5.0",
      "model_name": "HBoxModel",
      "state": {
       "children": [
        "IPY_MODEL_7870160b4b6543158f6b60a3975bbb17",
        "IPY_MODEL_85b00ca77ced4871aeab0dcea0e92c05",
        "IPY_MODEL_0d76800e3d2d4e72b93f125f076db592"
       ],
       "layout": "IPY_MODEL_8e2e03d1f6bd43ab88c92ada27dd3ad3"
      }
     },
     "ef768d2708134d01a262a2e63221f279": {
      "model_module": "@jupyter-widgets/controls",
      "model_module_version": "1.5.0",
      "model_name": "FloatProgressModel",
      "state": {
       "bar_style": "success",
       "layout": "IPY_MODEL_4750e8878e224f358f2c227d229d52eb",
       "max": 225,
       "style": "IPY_MODEL_b6d497412db44fb98b0c71437a81318b",
       "value": 225
      }
     },
     "f1a5e6b17f2542d081b80489a9295e79": {
      "model_module": "@jupyter-widgets/base",
      "model_module_version": "1.2.0",
      "model_name": "LayoutModel",
      "state": {}
     },
     "f71369d013564eb391ba124fce676216": {
      "model_module": "@jupyter-widgets/controls",
      "model_module_version": "1.5.0",
      "model_name": "DescriptionStyleModel",
      "state": {
       "description_width": ""
      }
     }
    },
    "version_major": 2,
    "version_minor": 0
   }
  }
 },
 "nbformat": 4,
 "nbformat_minor": 4
}
