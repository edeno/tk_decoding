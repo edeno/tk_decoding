{
 "cells": [
  {
   "cell_type": "code",
   "execution_count": 1,
   "metadata": {},
   "outputs": [],
   "source": [
    "import logging\n",
    "\n",
    "logging.basicConfig(\n",
    "    level=\"INFO\", format=\"%(asctime)s %(message)s\", datefmt=\"%d-%b-%y %H:%M:%S\"\n",
    ")\n"
   ]
  },
  {
   "cell_type": "code",
   "execution_count": 2,
   "metadata": {},
   "outputs": [
    {
     "name": "stderr",
     "output_type": "stream",
     "text": [
      "28-Sep-23 14:47:40 Note: detected 96 virtual cores but NumExpr set to maximum of 64, check \"NUMEXPR_MAX_THREADS\" environment variable.\n",
      "28-Sep-23 14:47:40 Note: NumExpr detected 96 cores but \"NUMEXPR_MAX_THREADS\" not set, so enforcing safe limit of 8.\n",
      "28-Sep-23 14:47:40 NumExpr defaulting to 8 threads.\n",
      "/home/edeno/miniconda3/envs/tk_decoding/lib/python3.10/site-packages/replay_trajectory_classification/likelihoods/multiunit_likelihood.py:8: TqdmExperimentalWarning: Using `tqdm.autonotebook.tqdm` in notebook mode. Use `tqdm.tqdm` instead to force console mode (e.g. in jupyter console)\n",
      "  from tqdm.autonotebook import tqdm\n"
     ]
    },
    {
     "data": {
      "text/html": [
       "<div>\n",
       "<style scoped>\n",
       "    .dataframe tbody tr th:only-of-type {\n",
       "        vertical-align: middle;\n",
       "    }\n",
       "\n",
       "    .dataframe tbody tr th {\n",
       "        vertical-align: top;\n",
       "    }\n",
       "\n",
       "    .dataframe thead th {\n",
       "        text-align: right;\n",
       "    }\n",
       "</style>\n",
       "<table border=\"1\" class=\"dataframe\">\n",
       "  <thead>\n",
       "    <tr style=\"text-align: right;\">\n",
       "      <th></th>\n",
       "      <th></th>\n",
       "    </tr>\n",
       "    <tr>\n",
       "      <th>animal</th>\n",
       "      <th>date</th>\n",
       "    </tr>\n",
       "  </thead>\n",
       "  <tbody>\n",
       "    <tr>\n",
       "      <th>IM-1594</th>\n",
       "      <th>07252023</th>\n",
       "    </tr>\n",
       "    <tr>\n",
       "      <th rowspan=\"7\" valign=\"top\">IM-1478</th>\n",
       "      <th>07242022</th>\n",
       "    </tr>\n",
       "    <tr>\n",
       "      <th>07252022</th>\n",
       "    </tr>\n",
       "    <tr>\n",
       "      <th>07192022</th>\n",
       "    </tr>\n",
       "    <tr>\n",
       "      <th>07172022</th>\n",
       "    </tr>\n",
       "    <tr>\n",
       "      <th>07262022</th>\n",
       "    </tr>\n",
       "    <tr>\n",
       "      <th>07202022</th>\n",
       "    </tr>\n",
       "    <tr>\n",
       "      <th>07272022</th>\n",
       "    </tr>\n",
       "  </tbody>\n",
       "</table>\n",
       "</div>"
      ],
      "text/plain": [
       "Empty DataFrame\n",
       "Columns: []\n",
       "Index: [(IM-1594, 07252023), (IM-1478, 07242022), (IM-1478, 07252022), (IM-1478, 07192022), (IM-1478, 07172022), (IM-1478, 07262022), (IM-1478, 07202022), (IM-1478, 07272022)]"
      ]
     },
     "execution_count": 2,
     "metadata": {},
     "output_type": "execute_result"
    }
   ],
   "source": [
    "from scripts.run_decoding import get_session_info\n",
    "\n",
    "session_info = get_session_info()\n",
    "session_info"
   ]
  },
  {
   "cell_type": "code",
   "execution_count": 3,
   "metadata": {},
   "outputs": [
    {
     "data": {
      "text/html": [
       "<div>\n",
       "<style scoped>\n",
       "    .dataframe tbody tr th:only-of-type {\n",
       "        vertical-align: middle;\n",
       "    }\n",
       "\n",
       "    .dataframe tbody tr th {\n",
       "        vertical-align: top;\n",
       "    }\n",
       "\n",
       "    .dataframe thead th {\n",
       "        text-align: right;\n",
       "    }\n",
       "</style>\n",
       "<table border=\"1\" class=\"dataframe\">\n",
       "  <thead>\n",
       "    <tr style=\"text-align: right;\">\n",
       "      <th></th>\n",
       "      <th>Unnamed: 0</th>\n",
       "      <th>x</th>\n",
       "      <th>y</th>\n",
       "      <th>green_z_scored</th>\n",
       "      <th>head_direction</th>\n",
       "      <th>speed</th>\n",
       "      <th>velocity_x</th>\n",
       "      <th>velocity_y</th>\n",
       "    </tr>\n",
       "    <tr>\n",
       "      <th>time</th>\n",
       "      <th></th>\n",
       "      <th></th>\n",
       "      <th></th>\n",
       "      <th></th>\n",
       "      <th></th>\n",
       "      <th></th>\n",
       "      <th></th>\n",
       "      <th></th>\n",
       "    </tr>\n",
       "  </thead>\n",
       "  <tbody>\n",
       "    <tr>\n",
       "      <th>21.612</th>\n",
       "      <td>5403</td>\n",
       "      <td>70.541401</td>\n",
       "      <td>25.573248</td>\n",
       "      <td>-0.2356</td>\n",
       "      <td>0.153186</td>\n",
       "      <td>7.990514e+00</td>\n",
       "      <td>7.896944e+00</td>\n",
       "      <td>1.219255</td>\n",
       "    </tr>\n",
       "    <tr>\n",
       "      <th>21.616</th>\n",
       "      <td>5404</td>\n",
       "      <td>70.509554</td>\n",
       "      <td>25.573248</td>\n",
       "      <td>-0.2563</td>\n",
       "      <td>0.174757</td>\n",
       "      <td>7.343604e+00</td>\n",
       "      <td>7.231752e+00</td>\n",
       "      <td>1.276827</td>\n",
       "    </tr>\n",
       "    <tr>\n",
       "      <th>21.620</th>\n",
       "      <td>5405</td>\n",
       "      <td>70.509554</td>\n",
       "      <td>25.573248</td>\n",
       "      <td>-0.2798</td>\n",
       "      <td>0.202695</td>\n",
       "      <td>6.716194e+00</td>\n",
       "      <td>6.578698e+00</td>\n",
       "      <td>1.352037</td>\n",
       "    </tr>\n",
       "    <tr>\n",
       "      <th>21.624</th>\n",
       "      <td>5406</td>\n",
       "      <td>70.509554</td>\n",
       "      <td>25.573248</td>\n",
       "      <td>-0.3044</td>\n",
       "      <td>0.238706</td>\n",
       "      <td>6.111849e+00</td>\n",
       "      <td>5.938547e+00</td>\n",
       "      <td>1.445116</td>\n",
       "    </tr>\n",
       "    <tr>\n",
       "      <th>21.628</th>\n",
       "      <td>5407</td>\n",
       "      <td>70.509554</td>\n",
       "      <td>25.573248</td>\n",
       "      <td>-0.3260</td>\n",
       "      <td>0.284994</td>\n",
       "      <td>5.535297e+00</td>\n",
       "      <td>5.312021e+00</td>\n",
       "      <td>1.556259</td>\n",
       "    </tr>\n",
       "    <tr>\n",
       "      <th>...</th>\n",
       "      <td>...</td>\n",
       "      <td>...</td>\n",
       "      <td>...</td>\n",
       "      <td>...</td>\n",
       "      <td>...</td>\n",
       "      <td>...</td>\n",
       "      <td>...</td>\n",
       "      <td>...</td>\n",
       "    </tr>\n",
       "    <tr>\n",
       "      <th>5204.772</th>\n",
       "      <td>1301193</td>\n",
       "      <td>33.299363</td>\n",
       "      <td>35.222930</td>\n",
       "      <td>-0.4536</td>\n",
       "      <td>0.000000</td>\n",
       "      <td>1.525847e-15</td>\n",
       "      <td>1.525847e-15</td>\n",
       "      <td>0.000000</td>\n",
       "    </tr>\n",
       "    <tr>\n",
       "      <th>5204.776</th>\n",
       "      <td>1301194</td>\n",
       "      <td>33.299363</td>\n",
       "      <td>35.222930</td>\n",
       "      <td>-0.5040</td>\n",
       "      <td>0.000000</td>\n",
       "      <td>1.522630e-15</td>\n",
       "      <td>1.522630e-15</td>\n",
       "      <td>0.000000</td>\n",
       "    </tr>\n",
       "    <tr>\n",
       "      <th>5204.780</th>\n",
       "      <td>1301195</td>\n",
       "      <td>33.299363</td>\n",
       "      <td>35.222930</td>\n",
       "      <td>-0.5635</td>\n",
       "      <td>0.000000</td>\n",
       "      <td>1.516939e-15</td>\n",
       "      <td>1.516939e-15</td>\n",
       "      <td>0.000000</td>\n",
       "    </tr>\n",
       "    <tr>\n",
       "      <th>5204.784</th>\n",
       "      <td>1301196</td>\n",
       "      <td>33.299363</td>\n",
       "      <td>35.222930</td>\n",
       "      <td>-0.6210</td>\n",
       "      <td>0.000000</td>\n",
       "      <td>1.508806e-15</td>\n",
       "      <td>1.508806e-15</td>\n",
       "      <td>0.000000</td>\n",
       "    </tr>\n",
       "    <tr>\n",
       "      <th>5204.788</th>\n",
       "      <td>1301197</td>\n",
       "      <td>33.299363</td>\n",
       "      <td>35.222930</td>\n",
       "      <td>-0.6680</td>\n",
       "      <td>0.000000</td>\n",
       "      <td>1.498271e-15</td>\n",
       "      <td>1.498271e-15</td>\n",
       "      <td>0.000000</td>\n",
       "    </tr>\n",
       "  </tbody>\n",
       "</table>\n",
       "<p>1295795 rows × 8 columns</p>\n",
       "</div>"
      ],
      "text/plain": [
       "          Unnamed: 0          x          y  green_z_scored  head_direction  \\\n",
       "time                                                                         \n",
       "21.612          5403  70.541401  25.573248         -0.2356        0.153186   \n",
       "21.616          5404  70.509554  25.573248         -0.2563        0.174757   \n",
       "21.620          5405  70.509554  25.573248         -0.2798        0.202695   \n",
       "21.624          5406  70.509554  25.573248         -0.3044        0.238706   \n",
       "21.628          5407  70.509554  25.573248         -0.3260        0.284994   \n",
       "...              ...        ...        ...             ...             ...   \n",
       "5204.772     1301193  33.299363  35.222930         -0.4536        0.000000   \n",
       "5204.776     1301194  33.299363  35.222930         -0.5040        0.000000   \n",
       "5204.780     1301195  33.299363  35.222930         -0.5635        0.000000   \n",
       "5204.784     1301196  33.299363  35.222930         -0.6210        0.000000   \n",
       "5204.788     1301197  33.299363  35.222930         -0.6680        0.000000   \n",
       "\n",
       "                 speed    velocity_x  velocity_y  \n",
       "time                                              \n",
       "21.612    7.990514e+00  7.896944e+00    1.219255  \n",
       "21.616    7.343604e+00  7.231752e+00    1.276827  \n",
       "21.620    6.716194e+00  6.578698e+00    1.352037  \n",
       "21.624    6.111849e+00  5.938547e+00    1.445116  \n",
       "21.628    5.535297e+00  5.312021e+00    1.556259  \n",
       "...                ...           ...         ...  \n",
       "5204.772  1.525847e-15  1.525847e-15    0.000000  \n",
       "5204.776  1.522630e-15  1.522630e-15    0.000000  \n",
       "5204.780  1.516939e-15  1.516939e-15    0.000000  \n",
       "5204.784  1.508806e-15  1.508806e-15    0.000000  \n",
       "5204.788  1.498271e-15  1.498271e-15    0.000000  \n",
       "\n",
       "[1295795 rows x 8 columns]"
      ]
     },
     "execution_count": 3,
     "metadata": {},
     "output_type": "execute_result"
    }
   ],
   "source": [
    "from src.load_data import load_data\n",
    "import os\n",
    "from src.parameters import RAW_DATA_DIR, SAMPLING_FREQUENCY\n",
    "\n",
    "animal, date = session_info.index[2]\n",
    "\n",
    "raw_position_file_name = os.path.join(\n",
    "    RAW_DATA_DIR, animal, date, f\"{animal}_{date}_position.csv\"\n",
    ")\n",
    "raw_spike_file_name = os.path.join(\n",
    "    RAW_DATA_DIR, animal, date, f\"{animal}_{date}_spikesWithPosition.csv\"\n",
    ")\n",
    "\n",
    "(position_info, spikes, multiunit_firing_rate, multiunit_HSE_times,) = load_data(\n",
    "    position_file_name=raw_position_file_name,\n",
    "    spike_file_name=raw_spike_file_name,\n",
    ")\n",
    "\n",
    "start_ind = int(20.0 * SAMPLING_FREQUENCY)\n",
    "position_info = position_info.iloc[start_ind:]\n",
    "spikes = spikes.iloc[start_ind:]\n",
    "multiunit_firing_rate = multiunit_firing_rate.iloc[start_ind:]\n",
    "position_info\n"
   ]
  },
  {
   "cell_type": "code",
   "execution_count": 4,
   "metadata": {},
   "outputs": [
    {
     "data": {
      "text/plain": [
       "[<matplotlib.lines.Line2D at 0x7fa3e04fc3d0>]"
      ]
     },
     "execution_count": 4,
     "metadata": {},
     "output_type": "execute_result"
    },
    {
     "data": {
      "image/png": "[encoded data removed]",
      "text/plain": [
       "<Figure size 640x480 with 1 Axes>"
      ]
     },
     "metadata": {},
     "output_type": "display_data"
    }
   ],
   "source": [
    "import matplotlib.pyplot as plt\n",
    "\n",
    "plt.plot(position_info[\"velocity_x\"], position_info[\"velocity_y\"])"
   ]
  },
  {
   "cell_type": "code",
   "execution_count": 5,
   "metadata": {},
   "outputs": [
    {
     "data": {
      "image/png": "[encoded data removed]",
      "text/plain": [
       "<Figure size 600x700 with 1 Axes>"
      ]
     },
     "metadata": {},
     "output_type": "display_data"
    }
   ],
   "source": [
    "from replay_trajectory_classification import Environment\n",
    "import numpy as np\n",
    "\n",
    "velocity = position_info[[\"velocity_x\", \"velocity_y\"]].to_numpy()\n",
    "velocity[np.abs(velocity) > 110] = 110\n",
    "\n",
    "velocity_env = Environment(\n",
    "    place_bin_size=5.0, fill_holes=True, bin_count_threshold=0, dilate=False\n",
    ").fit_place_grid(position=velocity)\n",
    "\n",
    "velocity_env.plot_grid()"
   ]
  },
  {
   "cell_type": "code",
   "execution_count": 6,
   "metadata": {},
   "outputs": [],
   "source": [
    "from replay_trajectory_classification import (\n",
    "    Environment,\n",
    "    RandomWalk,\n",
    "    SortedSpikesClassifier,\n",
    "    Uniform,\n",
    ")\n",
    "\n",
    "# Set up classifier\n",
    "state_names = [\"continuous\", \"fragmented\"]\n",
    "continuous_transition_types = [\n",
    "    [RandomWalk(movement_var=24.0), Uniform()],\n",
    "    [Uniform(), Uniform()],\n",
    "]\n",
    "\n",
    "velocity_classifier = SortedSpikesClassifier(\n",
    "    environments=velocity_env,\n",
    "    continuous_transition_types=continuous_transition_types,\n",
    "    sorted_spikes_algorithm=\"spiking_likelihood_kde_gpu\",\n",
    "    sorted_spikes_algorithm_params={\n",
    "        \"position_std\": 6.0,\n",
    "        \"use_diffusion\": False,\n",
    "        \"block_size\": int(2**12),\n",
    "    },\n",
    ")"
   ]
  },
  {
   "cell_type": "code",
   "execution_count": 7,
   "metadata": {},
   "outputs": [
    {
     "name": "stderr",
     "output_type": "stream",
     "text": [
      "28-Sep-23 14:49:14 Fitting initial conditions...\n",
      "28-Sep-23 14:49:14 Fitting continuous state transition...\n"
     ]
    },
    {
     "name": "stdout",
     "output_type": "stream",
     "text": [
      "Fitting place fields...\n"
     ]
    },
    {
     "name": "stderr",
     "output_type": "stream",
     "text": [
      "/home/edeno/miniconda3/envs/tk_decoding/lib/python3.10/site-packages/replay_trajectory_classification/continuous_state_transitions.py:23: RuntimeWarning: invalid value encountered in divide\n",
      "  x /= x.sum(axis=1, keepdims=True)\n",
      "28-Sep-23 14:49:14 Fitting discrete state transition\n",
      "28-Sep-23 14:49:14 Fitting place fields...\n"
     ]
    },
    {
     "data": {
      "application/vnd.jupyter.widget-view+json": {
       "model_id": "8ec4e7f114c34601967f39a1d1886224",
       "version_major": 2,
       "version_minor": 0
      },
      "text/plain": [
       "  0%|          | 0/145 [00:00<?, ?it/s]"
      ]
     },
     "metadata": {},
     "output_type": "display_data"
    },
    {
     "name": "stderr",
     "output_type": "stream",
     "text": [
      "/home/edeno/miniconda3/envs/tk_decoding/lib/python3.10/site-packages/replay_trajectory_classification/likelihoods/spiking_likelihood_kde_gpu.py:115: RuntimeWarning: divide by zero encountered in log\n",
      "  np.log(mean_rate) + np.log(marginal_density) - np.log(occupancy)\n",
      "/home/edeno/miniconda3/envs/tk_decoding/lib/python3.10/site-packages/replay_trajectory_classification/likelihoods/spiking_likelihood_kde_gpu.py:115: RuntimeWarning: invalid value encountered in subtract\n",
      "  np.log(mean_rate) + np.log(marginal_density) - np.log(occupancy)\n",
      "28-Sep-23 14:50:11 Estimating likelihood...\n"
     ]
    },
    {
     "name": "stdout",
     "output_type": "stream",
     "text": [
      "Predicting segment 0...\n"
     ]
    },
    {
     "data": {
      "application/vnd.jupyter.widget-view+json": {
       "model_id": "1d04d7294e524ff69281c5d3aa3db925",
       "version_major": 2,
       "version_minor": 0
      },
      "text/plain": [
       "  0%|          | 0/145 [00:00<?, ?it/s]"
      ]
     },
     "metadata": {},
     "output_type": "display_data"
    },
    {
     "name": "stderr",
     "output_type": "stream",
     "text": [
      "/home/edeno/miniconda3/envs/tk_decoding/lib/python3.10/site-packages/replay_trajectory_classification/likelihoods/spiking_likelihood_kde_gpu.py:332: DeprecationWarning: `np.float` is a deprecated alias for the builtin `float`. To silence this warning, use `float` by itself. Doing this will not modify any behavior and is safe. If you specifically wanted the numpy scalar type, use `np.float64` here.\n",
      "Deprecated in NumPy 1.20; for more details and guidance: https://numpy.org/devdocs/release/1.20.0-notes.html#deprecations\n",
      "  mask = np.ones_like(is_track_interior, dtype=np.float)\n",
      "28-Sep-23 14:51:06 Estimating causal posterior...\n"
     ]
    },
    {
     "name": "stdout",
     "output_type": "stream",
     "text": [
      "../../thread/thread_load.cuh(36): warning: cuda.h: [jitify] File not found\n",
      "../../thread/thread_store.cuh(36): warning: cuda.h: [jitify] File not found\n"
     ]
    },
    {
     "name": "stderr",
     "output_type": "stream",
     "text": [
      "28-Sep-23 14:55:08 Estimating acausal posterior...\n",
      "28-Sep-23 15:04:09 Estimating likelihood...\n"
     ]
    },
    {
     "name": "stdout",
     "output_type": "stream",
     "text": [
      "Predicting segment 1...\n"
     ]
    },
    {
     "data": {
      "application/vnd.jupyter.widget-view+json": {
       "model_id": "943731983a474af9adeced668711ca7b",
       "version_major": 2,
       "version_minor": 0
      },
      "text/plain": [
       "  0%|          | 0/145 [00:00<?, ?it/s]"
      ]
     },
     "metadata": {},
     "output_type": "display_data"
    },
    {
     "name": "stderr",
     "output_type": "stream",
     "text": [
      "/home/edeno/miniconda3/envs/tk_decoding/lib/python3.10/site-packages/replay_trajectory_classification/likelihoods/spiking_likelihood_kde_gpu.py:332: DeprecationWarning: `np.float` is a deprecated alias for the builtin `float`. To silence this warning, use `float` by itself. Doing this will not modify any behavior and is safe. If you specifically wanted the numpy scalar type, use `np.float64` here.\n",
      "Deprecated in NumPy 1.20; for more details and guidance: https://numpy.org/devdocs/release/1.20.0-notes.html#deprecations\n",
      "  mask = np.ones_like(is_track_interior, dtype=np.float)\n",
      "28-Sep-23 15:04:59 Estimating causal posterior...\n",
      "28-Sep-23 15:08:51 Estimating acausal posterior...\n"
     ]
    },
    {
     "name": "stdout",
     "output_type": "stream",
     "text": [
      "Concatenating decoding...\n"
     ]
    }
   ],
   "source": [
    "import xarray as xr\n",
    "\n",
    "# Decode\n",
    "n_time = len(spikes)\n",
    "# n_segments = n_time // (60 * 60 * SAMPLING_FREQUENCY)  # 1 hour segments\n",
    "n_segments = 2\n",
    "velocity_results = []\n",
    "\n",
    "# Fit the place fields\n",
    "print(\"Fitting place fields...\")\n",
    "velocity_classifier.fit(\n",
    "    position=velocity,\n",
    "    spikes=spikes,\n",
    ")\n",
    "\n",
    "for ind in range(n_segments):\n",
    "    print(f\"Predicting segment {ind}...\")\n",
    "    time_slice = slice(ind * n_time // n_segments, (ind + 1) * n_time // n_segments)\n",
    "    velocity_results.append(\n",
    "        velocity_classifier.predict(\n",
    "            spikes.iloc[time_slice],\n",
    "            time=spikes.iloc[time_slice].index.to_numpy(),\n",
    "            state_names=state_names,\n",
    "            use_gpu=True,\n",
    "        )\n",
    "    )\n",
    "print(\"Concatenating decoding...\")\n",
    "velocity_results = xr.concat(velocity_results, dim=\"time\").drop(\n",
    "    [\"likelihood\", \"causal_posterior\"]\n",
    ")\n"
   ]
  },
  {
   "cell_type": "code",
   "execution_count": null,
   "metadata": {},
   "outputs": [],
   "source": []
  },
  {
   "cell_type": "code",
   "execution_count": 8,
   "metadata": {},
   "outputs": [],
   "source": [
    "# Set up classifier\n",
    "state_names = [\"continuous\", \"fragmented\"]\n",
    "position_environment = Environment(place_bin_size=2.0)\n",
    "continuous_transition_types = [\n",
    "    [RandomWalk(movement_var=12.0), Uniform()],\n",
    "    [Uniform(), Uniform()],\n",
    "]\n",
    "\n",
    "position_classifier = SortedSpikesClassifier(\n",
    "    environments=position_environment,\n",
    "    continuous_transition_types=continuous_transition_types,\n",
    "    sorted_spikes_algorithm=\"spiking_likelihood_kde_gpu\",\n",
    "    sorted_spikes_algorithm_params={\n",
    "        \"position_std\": 6.0,\n",
    "        \"use_diffusion\": False,\n",
    "        \"block_size\": int(2**12),\n",
    "    },\n",
    ")"
   ]
  },
  {
   "cell_type": "code",
   "execution_count": 9,
   "metadata": {},
   "outputs": [
    {
     "name": "stdout",
     "output_type": "stream",
     "text": [
      "Fitting place fields...\n"
     ]
    },
    {
     "name": "stderr",
     "output_type": "stream",
     "text": [
      "28-Sep-23 15:18:10 Fitting initial conditions...\n",
      "28-Sep-23 15:18:10 Fitting continuous state transition...\n",
      "/home/edeno/miniconda3/envs/tk_decoding/lib/python3.10/site-packages/replay_trajectory_classification/continuous_state_transitions.py:23: RuntimeWarning: invalid value encountered in divide\n",
      "  x /= x.sum(axis=1, keepdims=True)\n",
      "28-Sep-23 15:18:15 Fitting discrete state transition\n",
      "28-Sep-23 15:18:15 Fitting place fields...\n"
     ]
    },
    {
     "data": {
      "application/vnd.jupyter.widget-view+json": {
       "model_id": "18bce639b7a1424a9c6a877718a8b9a3",
       "version_major": 2,
       "version_minor": 0
      },
      "text/plain": [
       "  0%|          | 0/145 [00:00<?, ?it/s]"
      ]
     },
     "metadata": {},
     "output_type": "display_data"
    },
    {
     "name": "stderr",
     "output_type": "stream",
     "text": [
      "/home/edeno/miniconda3/envs/tk_decoding/lib/python3.10/site-packages/replay_trajectory_classification/likelihoods/spiking_likelihood_kde_gpu.py:115: RuntimeWarning: divide by zero encountered in log\n",
      "  np.log(mean_rate) + np.log(marginal_density) - np.log(occupancy)\n",
      "/home/edeno/miniconda3/envs/tk_decoding/lib/python3.10/site-packages/replay_trajectory_classification/likelihoods/spiking_likelihood_kde_gpu.py:115: RuntimeWarning: invalid value encountered in subtract\n",
      "  np.log(mean_rate) + np.log(marginal_density) - np.log(occupancy)\n",
      "28-Sep-23 15:19:59 Estimating likelihood...\n"
     ]
    },
    {
     "name": "stdout",
     "output_type": "stream",
     "text": [
      "Predicting segment 0...\n"
     ]
    },
    {
     "data": {
      "application/vnd.jupyter.widget-view+json": {
       "model_id": "f8baddd2ca6a47a9a31892d8c6e823a3",
       "version_major": 2,
       "version_minor": 0
      },
      "text/plain": [
       "  0%|          | 0/145 [00:00<?, ?it/s]"
      ]
     },
     "metadata": {},
     "output_type": "display_data"
    },
    {
     "name": "stderr",
     "output_type": "stream",
     "text": [
      "/home/edeno/miniconda3/envs/tk_decoding/lib/python3.10/site-packages/replay_trajectory_classification/likelihoods/spiking_likelihood_kde_gpu.py:332: DeprecationWarning: `np.float` is a deprecated alias for the builtin `float`. To silence this warning, use `float` by itself. Doing this will not modify any behavior and is safe. If you specifically wanted the numpy scalar type, use `np.float64` here.\n",
      "Deprecated in NumPy 1.20; for more details and guidance: https://numpy.org/devdocs/release/1.20.0-notes.html#deprecations\n",
      "  mask = np.ones_like(is_track_interior, dtype=np.float)\n",
      "28-Sep-23 15:23:48 Estimating causal posterior...\n",
      "28-Sep-23 15:28:33 Estimating acausal posterior...\n",
      "28-Sep-23 15:46:51 Estimating likelihood...\n"
     ]
    },
    {
     "name": "stdout",
     "output_type": "stream",
     "text": [
      "Predicting segment 1...\n"
     ]
    },
    {
     "data": {
      "application/vnd.jupyter.widget-view+json": {
       "model_id": "0fad283c609545eebca8ef288b3b8aa3",
       "version_major": 2,
       "version_minor": 0
      },
      "text/plain": [
       "  0%|          | 0/145 [00:00<?, ?it/s]"
      ]
     },
     "metadata": {},
     "output_type": "display_data"
    },
    {
     "name": "stderr",
     "output_type": "stream",
     "text": [
      "/home/edeno/miniconda3/envs/tk_decoding/lib/python3.10/site-packages/replay_trajectory_classification/likelihoods/spiking_likelihood_kde_gpu.py:332: DeprecationWarning: `np.float` is a deprecated alias for the builtin `float`. To silence this warning, use `float` by itself. Doing this will not modify any behavior and is safe. If you specifically wanted the numpy scalar type, use `np.float64` here.\n",
      "Deprecated in NumPy 1.20; for more details and guidance: https://numpy.org/devdocs/release/1.20.0-notes.html#deprecations\n",
      "  mask = np.ones_like(is_track_interior, dtype=np.float)\n",
      "28-Sep-23 15:52:34 Estimating causal posterior...\n",
      "28-Sep-23 15:57:57 Estimating acausal posterior...\n"
     ]
    },
    {
     "name": "stdout",
     "output_type": "stream",
     "text": [
      "Concatenating decoding...\n"
     ]
    }
   ],
   "source": [
    "# Decode\n",
    "n_time = len(spikes)\n",
    "# n_segments = n_time // (60 * 60 * SAMPLING_FREQUENCY)  # 1 hour segments\n",
    "n_segments = 2\n",
    "position_results = []\n",
    "\n",
    "# Fit the place fields\n",
    "print(\"Fitting place fields...\")\n",
    "position_classifier.fit(\n",
    "    position=position_info[[\"x\", \"y\"]],\n",
    "    spikes=spikes,\n",
    ")\n",
    "\n",
    "for ind in range(n_segments):\n",
    "    print(f\"Predicting segment {ind}...\")\n",
    "    time_slice = slice(ind * n_time // n_segments, (ind + 1) * n_time // n_segments)\n",
    "    position_results.append(\n",
    "        position_classifier.predict(\n",
    "            spikes.iloc[time_slice],\n",
    "            time=spikes.iloc[time_slice].index.to_numpy(),\n",
    "            state_names=state_names,\n",
    "            use_gpu=True,\n",
    "        )\n",
    "    )\n",
    "print(\"Concatenating decoding...\")\n",
    "position_results = xr.concat(position_results, dim=\"time\").drop(\n",
    "    [\"likelihood\", \"causal_posterior\"]\n",
    ")\n"
   ]
  },
  {
   "cell_type": "code",
   "execution_count": 10,
   "metadata": {},
   "outputs": [],
   "source": [
    "velocity_results.to_netcdf(\"velocity_results.nc\")"
   ]
  },
  {
   "cell_type": "code",
   "execution_count": 11,
   "metadata": {},
   "outputs": [],
   "source": [
    "position_results.to_netcdf(\"position_results.nc\")"
   ]
  },
  {
   "cell_type": "code",
   "execution_count": 35,
   "metadata": {},
   "outputs": [],
   "source": [
    "import sortingview.views as vv\n",
    "from trajectory_analysis_tools import (\n",
    "    maximum_a_posteriori_estimate,\n",
    "    make_2D_track_graph_from_environment,\n",
    "    get_ahead_behind_distance2D,\n",
    ")\n",
    "\n",
    "# from src.plot_data import create_2D_decode_view\n",
    "from src.plot_data import (\n",
    "    vvf,\n",
    "    get_ul_corners,\n",
    "    create_static_track_animation,\n",
    "    create_track_animation_object,\n",
    "    process_decoded_data,\n",
    ")\n",
    "\n",
    "\n",
    "def create_2D_decode_view(\n",
    "    position_time: np.ndarray,\n",
    "    position: np.ndarray,\n",
    "    interior_place_bin_centers: np.ndarray,\n",
    "    place_bin_size: np.ndarray,\n",
    "    posterior: xr.DataArray,\n",
    "    head_dir: np.ndarray = None,\n",
    ") -> vvf.TrackPositionAnimationV1:\n",
    "    \"\"\"Creates a 2D decoding movie view\n",
    "\n",
    "    Parameters\n",
    "    ----------\n",
    "    position_time : np.ndarray, shape (n_time,)\n",
    "    position : np.ndarray, shape (n_time, 2)\n",
    "    interior_place_bin_centers: np.ndarray, shape (n_track_bins, 2)\n",
    "    place_bin_size : np.ndarray, shape (2, 1)\n",
    "    posterior : xr.DataArray, shape (n_time, n_position_bins)\n",
    "    head_dir : np.ndarray, optional\n",
    "\n",
    "    Returns\n",
    "    -------\n",
    "    view : vvf.TrackPositionAnimationV1\n",
    "\n",
    "    \"\"\"\n",
    "    assert (\n",
    "        position_time.shape[0] == position.shape[0]\n",
    "    ), \"position_time and position must have the same length\"\n",
    "    assert (\n",
    "        posterior.shape[0] == position.shape[0]\n",
    "    ), \"posterior and position must have the same length\"\n",
    "\n",
    "    position_time = np.squeeze(np.asarray(position_time)).copy()\n",
    "    position = np.asarray(position)\n",
    "    if head_dir is not None:\n",
    "        head_dir = np.squeeze(np.asarray(head_dir))\n",
    "\n",
    "    track_bin_width, track_bin_height = place_bin_size\n",
    "    # NOTE: We expect caller to have converted from fortran ordering already\n",
    "    # i.e. somewhere upstream, centers = env.place_bin_centers_[env.is_track_interior_.ravel(order=\"F\")]\n",
    "    upper_left_points = get_ul_corners(\n",
    "        track_bin_width, track_bin_height, interior_place_bin_centers\n",
    "    )\n",
    "\n",
    "    data = create_static_track_animation(\n",
    "        ul_corners=upper_left_points,\n",
    "        track_rect_height=track_bin_height,\n",
    "        track_rect_width=track_bin_width,\n",
    "        timestamps=position_time,\n",
    "        positions=position.T,\n",
    "        head_dir=head_dir,\n",
    "        compute_real_time_rate=True,\n",
    "    )\n",
    "    data[\"decodedData\"] = process_decoded_data(posterior)\n",
    "\n",
    "    return create_track_animation_object(static_track_animation=data)\n",
    "\n",
    "\n",
    "def create_interactive_2D_decoding_figurl(\n",
    "    position_info,\n",
    "    position_results,\n",
    "    velocity_results,\n",
    "    position_env,\n",
    "    velocity_env,\n",
    "    position_name=[\"x\", \"y\"],\n",
    "    velocity_name=[\"velocity_x\", \"velocity_y\"],\n",
    "    head_direction_name=\"head_direction\",\n",
    "    posterior_type=\"acausal_posterior\",\n",
    "    view_height=800,\n",
    "):\n",
    "    position_posterior = position_results[posterior_type].sum(\"state\")\n",
    "    position_decode_view = create_2D_decode_view(\n",
    "        position_time=position_info.index,\n",
    "        position=position_info[position_name],\n",
    "        interior_place_bin_centers=position_env.place_bin_centers_[\n",
    "            position_env.is_track_interior_.ravel(order=\"F\")\n",
    "        ],\n",
    "        place_bin_size=[np.median(np.diff(e)) for e in position_env.edges_],\n",
    "        posterior=position_posterior,\n",
    "        head_dir=position_info[head_direction_name],\n",
    "    )\n",
    "    # most_probable_decoded_position = maximum_a_posteriori_estimate(position_posterior)\n",
    "    # track_graph = make_2D_track_graph_from_environment(position_env)\n",
    "    # ahead_behind_distance = get_ahead_behind_distance2D(\n",
    "    #     head_position=position_info[[\"x\", \"y\"]].to_numpy(),\n",
    "    #     head_direction=position_info[\"head_direction\"].to_numpy(),\n",
    "    #     map_position=np.asarray(most_probable_decoded_position),\n",
    "    #     track_graph=track_graph,\n",
    "    # )\n",
    "\n",
    "    velocity_posterior = velocity_results[posterior_type].sum(\"state\")\n",
    "    velocity_decode_view = create_2D_decode_view(\n",
    "        position_time=position_info.index,\n",
    "        position=position_info[velocity_name],\n",
    "        interior_place_bin_centers=velocity_env.place_bin_centers_[\n",
    "            velocity_env.is_track_interior_.ravel(order=\"F\")\n",
    "        ],\n",
    "        place_bin_size=[np.median(np.diff(e)) for e in velocity_env.edges_],\n",
    "        posterior=velocity_posterior,\n",
    "        head_dir=None,\n",
    "    )\n",
    "    most_probable_decoded_velocity = maximum_a_posteriori_estimate(velocity_posterior)\n",
    "    decoded_velocity_complex = (\n",
    "        most_probable_decoded_velocity[:, 0] + 1j * most_probable_decoded_velocity[:, 1]\n",
    "    )\n",
    "    most_probable_decoded_head_direction = np.angle(decoded_velocity_complex)\n",
    "    most_probable_decoded_speed = np.abs(decoded_velocity_complex)\n",
    "\n",
    "    speed_view = vv.TimeseriesGraph()\n",
    "    speed_view.add_line_series(\n",
    "        name=\"Speed [cm/s]\",\n",
    "        t=np.asarray(position_info.index),\n",
    "        y=np.asarray(position_info[\"speed\"], dtype=np.float32).squeeze(),\n",
    "        color=\"black\",\n",
    "        width=1,\n",
    "    )\n",
    "    speed_view.add_line_series(\n",
    "        name=\"Decoded Speed [cm/s]\",\n",
    "        t=np.asarray(position_info.index),\n",
    "        y=np.asarray(most_probable_decoded_speed, dtype=np.float32).squeeze(),\n",
    "        color=\"red\",\n",
    "        width=1,\n",
    "    )\n",
    "\n",
    "    head_dir_view = vv.TimeseriesGraph()\n",
    "    head_dir_view.add_line_series(\n",
    "        name=\"Head Dir. [rad]\",\n",
    "        t=np.asarray(position_info.index),\n",
    "        y=np.asarray(position_info[\"head_direction\"], dtype=np.float32).squeeze(),\n",
    "        color=\"black\",\n",
    "        width=1,\n",
    "    )\n",
    "    head_dir_view.add_line_series(\n",
    "        name=\"Decoded Head Dir.[rad]\",\n",
    "        t=np.asarray(position_info.index),\n",
    "        y=np.asarray(most_probable_decoded_head_direction, dtype=np.float32).squeeze(),\n",
    "        color=\"red\",\n",
    "        width=1,\n",
    "    )\n",
    "\n",
    "    # ahead_behind_view = vv.TimeseriesGraph().add_line_series(\n",
    "    #     name=\"Dist. to Animal [cm]\",\n",
    "    #     t=np.asarray(position_results.time),\n",
    "    #     y=np.asarray(ahead_behind_distance, dtype=np.float32).squeeze(),\n",
    "    #     color=\"black\",\n",
    "    #     width=1,\n",
    "    # )\n",
    "\n",
    "    vertical_panel1_content = [\n",
    "        vv.LayoutItem(position_decode_view, stretch=1, title=\"Pos. Decode\"),\n",
    "    ]\n",
    "\n",
    "    vertical_panel2_content = [\n",
    "        # vv.LayoutItem(ahead_behind_view, stretch=1, title=\"Ahead/Behind Dist.\"),\n",
    "        vv.LayoutItem(speed_view, stretch=1, title=\"Speed\"),\n",
    "        vv.LayoutItem(head_dir_view, stretch=1, title=\"Head Dir.\"),\n",
    "        vv.LayoutItem(velocity_decode_view, stretch=3, title=\"Vel. Decode\"),\n",
    "    ]\n",
    "\n",
    "    view = vv.Box(\n",
    "        direction=\"horizontal\",\n",
    "        show_titles=True,\n",
    "        height=view_height,\n",
    "        items=[\n",
    "            vv.LayoutItem(\n",
    "                vv.Box(\n",
    "                    direction=\"vertical\",\n",
    "                    show_titles=True,\n",
    "                    items=vertical_panel1_content,\n",
    "                )\n",
    "            ),\n",
    "            vv.LayoutItem(\n",
    "                vv.Box(\n",
    "                    direction=\"vertical\",\n",
    "                    show_titles=True,\n",
    "                    items=vertical_panel2_content,\n",
    "                )\n",
    "            ),\n",
    "        ],\n",
    "    )\n",
    "\n",
    "    return view.url(label=\"\")"
   ]
  },
  {
   "cell_type": "code",
   "execution_count": 36,
   "metadata": {},
   "outputs": [
    {
     "name": "stderr",
     "output_type": "stream",
     "text": [
      "/home/edeno/miniconda3/envs/tk_decoding/lib/python3.10/site-packages/xarray/core/computation.py:760: RuntimeWarning: divide by zero encountered in log\n",
      "  result_data = func(*input_data)\n"
     ]
    },
    {
     "name": "stdout",
     "output_type": "stream",
     "text": [
      "Computing sha1 of /stelmo/nwb/.kachery-cloud/tmp_5fgI4N3E/file.dat\n",
      "Computing sha1 of /stelmo/nwb/.kachery-cloud/tmp_kzJqh7hu/file.dat\n"
     ]
    },
    {
     "data": {
      "text/plain": [
       "'https://figurl.org/f?v=gs://figurl/spikesortingview-10&d=sha1://b38abb9e57af503d38ac5843f8fbfd98094577be&label=&zone=franklab.default'"
      ]
     },
     "execution_count": 36,
     "metadata": {},
     "output_type": "execute_result"
    }
   ],
   "source": [
    "create_interactive_2D_decoding_figurl(\n",
    "    position_info,\n",
    "    position_results,\n",
    "    velocity_results,\n",
    "    position_environment,\n",
    "    velocity_env,\n",
    ")\n"
   ]
  },
  {
   "cell_type": "code",
   "execution_count": 34,
   "metadata": {},
   "outputs": [
    {
     "data": {
      "text/plain": [
       "[<matplotlib.lines.Line2D at 0x7fa19c9cd060>]"
      ]
     },
     "execution_count": 34,
     "metadata": {},
     "output_type": "execute_result"
    },
    {
     "data": {
      "image/png": "[encoded data removed]",
      "text/plain": [
       "<Figure size 640x480 with 1 Axes>"
      ]
     },
     "metadata": {},
     "output_type": "display_data"
    }
   ],
   "source": [
    "plt.plot(position_info[\"x\"], position_info[\"y\"])"
   ]
  },
  {
   "cell_type": "code",
   "execution_count": null,
   "metadata": {},
   "outputs": [],
   "source": []
  }
 ],
 "metadata": {
  "kernelspec": {
   "display_name": "tk_decoding",
   "language": "python",
   "name": "python3"
  },
  "language_info": {
   "codemirror_mode": {
    "name": "ipython",
    "version": 3
   },
   "file_extension": ".py",
   "mimetype": "text/x-python",
   "name": "python",
   "nbconvert_exporter": "python",
   "pygments_lexer": "ipython3",
   "version": "3.10.9"
  },
  "orig_nbformat": 4
 },
 "nbformat": 4,
 "nbformat_minor": 2
}
